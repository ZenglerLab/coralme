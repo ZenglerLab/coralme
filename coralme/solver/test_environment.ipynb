{
 "cells": [
  {
   "cell_type": "code",
   "execution_count": 1,
   "metadata": {},
   "outputs": [],
   "source": [
    "import glob\n",
    "import numpy\n",
    "import pandas\n",
    "# import seaborn\n",
    "import matplotlib.pyplot as plt\n",
    "plt.rcParams['svg.fonttype'] = 'none'\n",
    "from tqdm import tqdm"
   ]
  },
  {
   "cell_type": "code",
   "execution_count": 2,
   "metadata": {},
   "outputs": [
    {
     "data": {
      "text/html": [
       "<style>.container { width:95% !important; }</style>"
      ],
      "text/plain": [
       "<IPython.core.display.HTML object>"
      ]
     },
     "metadata": {},
     "output_type": "display_data"
    }
   ],
   "source": [
    "from IPython.display import display, HTML, Math, Markdown\n",
    "display(HTML(\"<style>.container { width:95% !important; }</style>\"))\n",
    "\n",
    "%load_ext autoreload\n",
    "%autoreload 2"
   ]
  },
  {
   "cell_type": "code",
   "execution_count": 3,
   "metadata": {},
   "outputs": [
    {
     "data": {
      "text/plain": [
       "'/opt/python3-venv/p310-coralme/lib/python3.10/site-packages/coralME-1.0.0+48.gd083560.dirty-py3.10.egg/coralme/__init__.py'"
      ]
     },
     "execution_count": 3,
     "metadata": {},
     "output_type": "execute_result"
    }
   ],
   "source": [
    "import coralme\n",
    "coralme.__file__"
   ]
  },
  {
   "cell_type": "code",
   "execution_count": 4,
   "metadata": {},
   "outputs": [
    {
     "name": "stdout",
     "output_type": "stream",
     "text": [
      "Set parameter Username\n",
      "Academic license - for non-commercial use only - expires 2024-04-01\n",
      "Read LP format model from file /tmp/tmpsnr7ndnu.lp\n",
      "Reading time = 0.00 seconds\n",
      ": 0 rows, 0 columns, 0 nonzeros\n",
      "Read LP format model from file /tmp/tmpmcjwza8_.lp\n",
      "Reading time = 0.01 seconds\n",
      ": 1660 rows, 4754 columns, 17902 nonzeros\n",
      "Read LP format model from file /tmp/tmpdo_jcaif.lp\n",
      "Reading time = 0.01 seconds\n",
      ": 1811 rows, 5222 columns, 17878 nonzeros\n"
     ]
    },
    {
     "name": "stderr",
     "output_type": "stream",
     "text": [
      "2024-02-02 16:28:49,683 The metabolite 'glycyl_c' must exist in the ME-model to calculate the element contribution.\n",
      "2024-02-02 16:28:49,684 The metabolite 'glycyl_c' must exist in the ME-model to calculate the element contribution.\n"
     ]
    },
    {
     "name": "stdout",
     "output_type": "stream",
     "text": [
      "The MINOS and quad MINOS solvers are a courtesy of Prof Michael A. Saunders. Please cite Ma, D., Yang, L., Fleming, R. et al. Reliable and efficient solution of genome-scale models of Metabolism and macromolecular Expression. Sci Rep 7, 40863 (2017). https://doi.org/10.1038/srep40863\n",
      "\n",
      "Iteration\t Solution to check\tSolver Status\n",
      "---------\t------------------\t-------------\n",
      "        1\t0.5000000000000000\tOptimal\n",
      "        2\t0.7500000000000000\tOptimal\n",
      "        3\t0.8750000000000000\tNot feasible\n",
      "        4\t0.8125000000000000\tOptimal\n",
      "        5\t0.8437500000000000\tNot feasible\n",
      "        6\t0.8281250000000000\tNot feasible\n",
      "        7\t0.8203125000000000\tNot feasible\n",
      "        8\t0.8164062500000000\tOptimal\n",
      "        9\t0.8183593750000000\tNot feasible\n",
      "       10\t0.8173828125000000\tOptimal\n",
      "       11\t0.8178710937500000\tNot feasible\n",
      "       12\t0.8176269531250000\tOptimal\n",
      "       13\t0.8177490234375000\tOptimal\n",
      "       14\t0.8178100585937500\tOptimal\n",
      "       15\t0.8178405761718750\tNot feasible\n",
      "       16\t0.8178253173828125\tOptimal\n",
      "       17\t0.8178329467773438\tOptimal\n",
      "       18\t0.8178367614746094\tOptimal\n",
      "       19\t0.8178386688232422\tNot feasible\n",
      "       20\t0.8178377151489258\tNot feasible\n"
     ]
    },
    {
     "data": {
      "text/plain": [
       "True"
      ]
     },
     "execution_count": 4,
     "metadata": {},
     "output_type": "execute_result"
    }
   ],
   "source": [
    "import pickle, tqdm\n",
    "with open('./MEModel-step2-iJL1678b-ME.pkl', 'rb') as infile:\n",
    "    me = pickle.load(infile)\n",
    "\n",
    "import coralme\n",
    "coralme.io.json.save_json_me_model(me, 'MEModel-step2-iJL1678b-ME.json')\n",
    "\n",
    "me.add_boundary(me.metabolites.li_c, type = 'sink');\n",
    "me.optimize(max_mu = 1.0)"
   ]
  },
  {
   "cell_type": "code",
   "execution_count": 5,
   "metadata": {},
   "outputs": [
    {
     "name": "stdout",
     "output_type": "stream",
     "text": [
      "CPU times: user 44.5 s, sys: 11.8 ms, total: 44.5 s\n",
      "Wall time: 44.5 s\n"
     ]
    }
   ],
   "source": [
    "%%time\n",
    "lp = me.construct_lp_problem(lambdify=True)"
   ]
  },
  {
   "cell_type": "code",
   "execution_count": 6,
   "metadata": {},
   "outputs": [
    {
     "name": "stdout",
     "output_type": "stream",
     "text": [
      "CPU times: user 5min 40s, sys: 585 ms, total: 5min 41s\n",
      "Wall time: 5min 40s\n"
     ]
    },
    {
     "data": {
      "text/plain": [
       "True"
      ]
     },
     "execution_count": 6,
     "metadata": {},
     "output_type": "execute_result"
    }
   ],
   "source": [
    "%%time\n",
    "me.feasibility(basis = None, **{'lp' : lp})"
   ]
  },
  {
   "cell_type": "code",
   "execution_count": 7,
   "metadata": {},
   "outputs": [
    {
     "data": {
      "text/plain": [
       "{0, 3}"
      ]
     },
     "execution_count": 7,
     "metadata": {},
     "output_type": "execute_result"
    }
   ],
   "source": [
    "set(me.basis)"
   ]
  },
  {
   "cell_type": "code",
   "execution_count": 8,
   "metadata": {},
   "outputs": [
    {
     "data": {
      "text/plain": [
       "22158"
      ]
     },
     "execution_count": 8,
     "metadata": {},
     "output_type": "execute_result"
    }
   ],
   "source": [
    "len(me.basis)"
   ]
  },
  {
   "cell_type": "code",
   "execution_count": 13,
   "metadata": {},
   "outputs": [
    {
     "name": "stdout",
     "output_type": "stream",
     "text": [
      "CPU times: user 9.52 s, sys: 24 ms, total: 9.54 s\n",
      "Wall time: 9.58 s\n"
     ]
    },
    {
     "data": {
      "text/plain": [
       "True"
      ]
     },
     "execution_count": 13,
     "metadata": {},
     "output_type": "execute_result"
    }
   ],
   "source": [
    "%%time\n",
    "me.feasibility(keys = {me.mu : 0.01}, basis = me.basis, **{'lp' : lp})"
   ]
  },
  {
   "cell_type": "code",
   "execution_count": 12,
   "metadata": {},
   "outputs": [
    {
     "name": "stdout",
     "output_type": "stream",
     "text": [
      "CPU times: user 13.9 s, sys: 52 ms, total: 13.9 s\n",
      "Wall time: 13.9 s\n"
     ]
    },
    {
     "data": {
      "text/plain": [
       "True"
      ]
     },
     "execution_count": 12,
     "metadata": {},
     "output_type": "execute_result"
    }
   ],
   "source": [
    "%%time\n",
    "me.feasibility(keys = {me.mu : 0.05}, basis = me.basis, **{'lp' : lp})"
   ]
  },
  {
   "cell_type": "code",
   "execution_count": 10,
   "metadata": {},
   "outputs": [
    {
     "data": {
      "text/plain": [
       "7196"
      ]
     },
     "execution_count": 10,
     "metadata": {},
     "output_type": "execute_result"
    }
   ],
   "source": [
    "len(me.metabolites)"
   ]
  },
  {
   "cell_type": "code",
   "execution_count": 11,
   "metadata": {},
   "outputs": [
    {
     "data": {
      "text/plain": [
       "22157"
      ]
     },
     "execution_count": 11,
     "metadata": {},
     "output_type": "execute_result"
    }
   ],
   "source": [
    "14961+7196"
   ]
  }
 ],
 "metadata": {
  "kernelspec": {
   "display_name": "p310 :: venv :: coralME :: 1.0.0",
   "language": "python",
   "name": "p310-venv-coralme"
  },
  "language_info": {
   "codemirror_mode": {
    "name": "ipython",
    "version": 3
   },
   "file_extension": ".py",
   "mimetype": "text/x-python",
   "name": "python",
   "nbconvert_exporter": "python",
   "pygments_lexer": "ipython3",
   "version": "3.10.12"
  }
 },
 "nbformat": 4,
 "nbformat_minor": 2
}
