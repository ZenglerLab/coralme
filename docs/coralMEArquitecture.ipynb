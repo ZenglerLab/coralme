{
 "cells": [
  {
   "cell_type": "markdown",
   "id": "dbfb1aa7-3761-404c-adc6-880fdb4c6305",
   "metadata": {},
   "source": [
    "# Arquitecture of coralME\n",
    "----------"
   ]
  },
  {
   "cell_type": "markdown",
   "id": "06516aeb-7c58-4d94-8def-580b08b00ee0",
   "metadata": {},
   "source": [
    "coralME is composed of 4 main classes that process and exchange organism-specific information for the reconstruction of a ME-model. The classes are:\n",
    "```python\n",
    "class Organism()\n",
    "\n",
    "class MEBuilder()\n",
    "\n",
    "class MEReconstruction()\n",
    "\n",
    "class Homology()\n",
    "```"
   ]
  },
  {
   "cell_type": "markdown",
   "id": "4c77ad67-e6d9-4803-b9b7-7fb6bfa3d5c5",
   "metadata": {},
   "source": [
    "<img src=\"./pngs/pipeline.png\" alt=\"Drawing\" style=\"width: 1000px;\"/>"
   ]
  },
  {
   "cell_type": "markdown",
   "id": "dfa220fb-8d49-4568-bf66-87c6b15686c1",
   "metadata": {},
   "source": [
    "## 1. <code>Organism()</code>\n",
    "----------"
   ]
  },
  {
   "cell_type": "markdown",
   "id": "16ccfb3f-11bc-4f7b-804c-d7070b7737ca",
   "metadata": {},
   "source": [
    "<b>Role:</b> Store information about an organism\n",
    "\n",
    "This class acts as a database containing all necessary information to reconstruct a ME-model. It is used to retrieve and store information of the main (**org**) and the reference (**ref**) organisms. Information in <code>Organism()</code> is read and manipulated by methods in the <code>MEBuilder()</code> class. The reference can be set as any of the provided organisms in coralME, available [here](../organisms/), although we advise to choose *E. coli* and *B. subtilis* for gram-negative and gram-positive bacteria, respectively."
   ]
  },
  {
   "cell_type": "markdown",
   "id": "94cd08c9-4f86-45c5-beb4-408bc2f9e840",
   "metadata": {},
   "source": [
    "## Parameters\n",
    "<code>org:str</code>\n",
    "\n",
    "    Identifier of the main organism. Has to be the same as the containing folder name.\n",
    "\n",
    "<code>locus_tag : str</code>\n",
    "\n",
    "    Name of the field containing gene identifiers in the genbank file, e.g. locus_tag, old_locus_tag. \n",
    "\n",
    "<code>is_reference : bool</code>\n",
    "\n",
    "    If True, process as reference organism.\n",
    "\n",
    "<code>create_minimal_files : bool</code>\n",
    "\n",
    "    0 to read minimal files from folder, 1 to generate minimal files from genome.gb. Minimal files genes.txt, proteins.txt, RNAs.txt, and TUs.txt can be generated from the genbank file, though some information might be lost. Set this parameter to True if minimal files are not available."
   ]
  },
  {
   "cell_type": "markdown",
   "id": "0866da79-a352-4364-abfe-d7b2e37b4df5",
   "metadata": {},
   "source": [
    "## 2. <code>MEBuilder()</code>\n",
    "----------"
   ]
  },
  {
   "cell_type": "markdown",
   "id": "c343d59c-a902-4df2-891c-913e1f3e73b2",
   "metadata": {},
   "source": [
    "<b>Role:</b> Coordinate the roles of  other classes.\n",
    "\n",
    "This class acts as the main coordinator between other objects, e.g. Organism, Homology, MEProcesser, and  METroubleshooter. It contains methods to manipulate class Organism by using attributes in class Homology, and manually curated files in the folder containing the main organism. Moreover, it is called by objects to access stored information in other objects. "
   ]
  },
  {
   "cell_type": "markdown",
   "id": "7bbc293b-0f02-438b-8edf-bf1b7b224f62",
   "metadata": {},
   "source": [
    "## 3. <code>MEReconstruction()</code>\n",
    "----------"
   ]
  },
  {
   "cell_type": "markdown",
   "id": "2e749025-6706-4dc7-bb20-190017141bcf",
   "metadata": {},
   "source": [
    "<b>Role:</b> Reconstruct a ME-model from the information contained in class Organism.\n",
    "\n",
    "This class was based almost entirely from the original [ECOLIme](https://github.com/SBRG/ecolime) code in [build_me_model.py](https://github.com/SBRG/ecolime/blob/master/ecolime/build_me_model.py). Adaptations to this code were necessary to make it applicable to other organisms. \n",
    "     "
   ]
  },
  {
   "cell_type": "markdown",
   "id": "5478587d-4e6b-43aa-b240-819f2eb123bb",
   "metadata": {},
   "source": [
    "## Parameters\n",
    "<code>builder : coralme.reconstruction.MEBuilder</code>\n",
    "\n",
    "    MEBuilder object containing the final version of the class Organism.   "
   ]
  },
  {
   "cell_type": "markdown",
   "id": "70ec0fda-31df-472b-a0bf-fef5f78909d7",
   "metadata": {},
   "source": [
    "## 4. <code>Homology()</code>\n",
    "----------"
   ]
  },
  {
   "cell_type": "markdown",
   "id": "1a853711-4b06-4132-8436-d9ef878d6f76",
   "metadata": {},
   "source": [
    "<b>Role:</b> Generate and store information about homology of the main and reference organisms.\n",
    "\n",
    "This class contains methods to predict and process homology of the main and reference organisms. Homology is inferred from the reciprocal best hits of a BLAST. The results are used to update and complement the attributes of the class Organism.      "
   ]
  },
  {
   "cell_type": "markdown",
   "id": "0c2c1758-104b-4285-8a0c-99661987009b",
   "metadata": {},
   "source": [
    "## Parameters\n",
    "<code>org : str</code>\n",
    "\n",
    "    Identifier of the main organism. Has to be the same as its\n",
    "    containing folder name.\n",
    "\n",
    "<code>ref : str</code>\n",
    "\n",
    "    Identifier of the reference organism. Has to be the same as\n",
    "    its containing folder name.\n",
    "\n",
    "<code>evalue : float</code>\n",
    "\n",
    "    E-value cutoff to call enzyme homologs from the BLAST. Two\n",
    "    reciprocal best hits are considered homologs if their\n",
    "    E-value is less than this parameter."
   ]
  }
 ],
 "metadata": {
  "kernelspec": {
   "display_name": "me_modeling_new",
   "language": "python",
   "name": "me_modeling_new"
  },
  "language_info": {
   "codemirror_mode": {
    "name": "ipython",
    "version": 3
   },
   "file_extension": ".py",
   "mimetype": "text/x-python",
   "name": "python",
   "nbconvert_exporter": "python",
   "pygments_lexer": "ipython3",
   "version": "3.7.8"
  }
 },
 "nbformat": 4,
 "nbformat_minor": 5
}
