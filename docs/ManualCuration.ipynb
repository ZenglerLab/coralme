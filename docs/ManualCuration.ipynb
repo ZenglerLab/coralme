{
 "cells": [
  {
   "cell_type": "markdown",
   "id": "dbfb1aa7-3761-404c-adc6-880fdb4c6305",
   "metadata": {},
   "source": [
    "# How to manually curate a ME-model\n",
    "----------"
   ]
  },
  {
   "cell_type": "markdown",
   "id": "aa3307bf-2c32-484d-877a-8d4811a5db02",
   "metadata": {},
   "source": [
    "## Understanding <code>curation_notes.txt</code>\n",
    "----------"
   ]
  },
  {
   "cell_type": "markdown",
   "id": "aee34bf9-b71e-46cc-a09e-0be6b8bd394b",
   "metadata": {},
   "source": []
  },
  {
   "cell_type": "markdown",
   "id": "86d0fd36-82c3-456b-a24e-3392310419dd",
   "metadata": {},
   "source": [
    "## Curation\n",
    "----------"
   ]
  },
  {
   "cell_type": "markdown",
   "id": "89ba1330-c461-450f-993a-80cc15862577",
   "metadata": {},
   "source": []
  }
 ],
 "metadata": {
  "kernelspec": {
   "display_name": "me_modeling_new",
   "language": "python",
   "name": "me_modeling_new"
  },
  "language_info": {
   "codemirror_mode": {
    "name": "ipython",
    "version": 3
   },
   "file_extension": ".py",
   "mimetype": "text/x-python",
   "name": "python",
   "nbconvert_exporter": "python",
   "pygments_lexer": "ipython3",
   "version": "3.7.8"
  }
 },
 "nbformat": 4,
 "nbformat_minor": 5
}
