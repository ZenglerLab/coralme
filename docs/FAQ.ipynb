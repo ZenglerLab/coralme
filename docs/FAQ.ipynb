{
 "cells": [
  {
   "cell_type": "markdown",
   "id": "dbfb1aa7-3761-404c-adc6-880fdb4c6305",
   "metadata": {},
   "source": [
    "# Frequently Asked Questions\n",
    "----------"
   ]
  },
  {
   "cell_type": "markdown",
   "id": "79161161-bf17-4535-b4cb-b97975b5f6a3",
   "metadata": {},
   "source": [
    "## How do I download the BioCyc files?\n",
    "----------"
   ]
  },
  {
   "cell_type": "markdown",
   "id": "1883b389-82af-4296-9975-21e41c3f3d37",
   "metadata": {},
   "source": [
    "BioCyc files are optional but useful, you should download them after having your gene id consistent M-model and genbank files.\n",
    "\n",
    "#### 1. Find the correct BioCyc database\n",
    "The quickest way to do this is to copy one of the genes from the genbank file into the BioCyc search bar. Your organism should appear in the list if it is available in BioCyc.\n",
    "\n",
    "To download:"
   ]
  },
  {
   "cell_type": "markdown",
   "id": "8ab37c09-468f-449f-a62b-7bb8c37c462e",
   "metadata": {},
   "source": [
    "#### 2. Go to <code>Tools</code>><code>Special SmartTables</code>"
   ]
  },
  {
   "cell_type": "markdown",
   "id": "fdf6d189-eac7-4518-b076-22774c2ff8de",
   "metadata": {},
   "source": [
    "![](./pngs/1.png)"
   ]
  },
  {
   "cell_type": "markdown",
   "id": "b8a09596-ca0a-475d-8553-f654c560cf1d",
   "metadata": {},
   "source": [
    "#### 3. From here you can download the 5 optional BioCyc files for your organism."
   ]
  },
  {
   "cell_type": "markdown",
   "id": "23972a94-1a8f-44fe-ad93-ac8d31db497c",
   "metadata": {},
   "source": [
    "![](./pngs/2.png)"
   ]
  },
  {
   "cell_type": "markdown",
   "id": "bd52c741-36a4-4d2d-925b-eb53941cceec",
   "metadata": {},
   "source": [
    "#### 4. Download <code>genes.txt</code> and <code>sequences.fasta</code>"
   ]
  },
  {
   "cell_type": "markdown",
   "id": "6b24c3e7-02d3-41da-b4a8-297c83dca193",
   "metadata": {},
   "source": [
    "![](./pngs/3.png)"
   ]
  },
  {
   "cell_type": "markdown",
   "id": "92b7f5df-37cb-40d3-bd9f-e062cdd53aa8",
   "metadata": {},
   "source": [
    "The same process of <code>genes.txt</code> applies to <code>proteins.txt</code>, <code>RNAs.txt</code> and <code>TUs.txt</code>.\n",
    "\n",
    "Some columns must be added manually using BioCyc's dropdown lists __ADD PROPERTY COLUMN__ and __ADD TRANSFORM COLUMN__ within the SmartTable editing webpage."
   ]
  },
  {
   "cell_type": "markdown",
   "id": "399855b7-f6bc-442f-9af2-803995846be2",
   "metadata": {},
   "source": [
    "![](./pngs/4.png)"
   ]
  },
  {
   "cell_type": "markdown",
   "id": "9d35d9bf-90b7-48d3-9e46-72d7c14ed4c7",
   "metadata": {},
   "source": [
    "#### 5. Download <code>proteins.txt</code>\n",
    "The index <b>(Proteins Complexes)</b> is in the SmartTable by default, but you need to add the columns <b>Common-Name</b>, <b>Genes of polypeptide, complex, or RNA</b>, and <b>Locations</b>.\n",
    "\n",
    "* <b>Common-Name</b> is available in the dropdown list __ADD PROPERTY COLUMN__\n",
    "\n",
    "* <b>Genes of polypeptide, complex, or RNA</b> is available in the dropdown list __ADD TRANSFORM COLUMN__\n",
    "\n",
    "* <b>Locations</b> is available in the dropdown list __ADD PROPERTY COLUMN__."
   ]
  },
  {
   "cell_type": "markdown",
   "id": "90d07f40-4cf6-4aec-aab5-eae9d9e910b2",
   "metadata": {},
   "source": [
    "#### 6. Download <code>RNAs.txt</code>\n",
    "The index <b>(All-tRNAs Misc-RNAs rRNAs)</b> is in the SmartTable by default, but you need to add the columns <b>Common-Name</b>, and <b>Gene</b>.\n",
    "\n",
    "* <b>Common-Name</b> is available in the dropdown list __ADD PROPERTY COLUMN__\n",
    "\n",
    "* <b>Gene</b> is available in the dropdown list __ADD PROPERTY COLUMN__."
   ]
  },
  {
   "cell_type": "markdown",
   "id": "ca8c8bde-e2b7-4295-bddd-5a9b56999e30",
   "metadata": {},
   "source": [
    "#### 7. Download <code>TUs.txt</code>\n",
    "The index <b>Transcription-Units</b> is in the SmartTable by default, but you need to add the columns <b>Genes of transcription unit</b>, and <b>Direction</b>.\n",
    "\n",
    "* <b>Genes of transcription unit</b> is available in the dropdown list __ADD TRANSFORM COLUMN__\n",
    "\n",
    "* <b>Direction</b> is available in the dropdown list __ADD PROPERTY COLUMN__."
   ]
  },
  {
   "cell_type": "markdown",
   "id": "3b0e09a0-11c6-4bd6-ab5b-9462c254d9f6",
   "metadata": {},
   "source": [
    "## My gene identifiers are not consistent, what should I do?\n",
    "----------"
   ]
  },
  {
   "cell_type": "markdown",
   "id": "f3256172-c619-47dd-9fe7-19376d2733cc",
   "metadata": {},
   "source": [
    "We know that consistent gene ID conventions are a problem across all platforms of bioinformatics. We tried to generalize as much as possible what the gene conventions could be, but often different genome assemblies or M-model reconstructions yield inconsistent files.\n",
    "\n",
    "What you should do depends on your problem, so we will classify the gene ID convention issues considering there are three main sources of information that must be consistent:\n",
    "* M-model <code>m_model.json</code> _gene identifiers_\n",
    "* Genome genbank file <code>genome.gb</code> _locus_tag_\n",
    "* BioCyc's gene info file <code>genes.txt</code> column _Accession-1_\n",
    "\n",
    "Overall, you can assume that modifying the genome genbank file is the hardest approach and thus, the last resort."
   ]
  },
  {
   "cell_type": "markdown",
   "id": "d694cb3d-6a5b-42f8-aec2-f896c8bb9b6c",
   "metadata": {},
   "source": [
    "#### 1. M-model and Genbank are consistent, but they are not consistent with the BioCyc files.\n",
    "Make sure that you looked for the correct BioCyc database, which corresponds to the M-model reconstruction. One quick way to ensure that is to copy one gene from your genbank or M-model and paste it in the search bar of BioCyc. Best case scenario, you microbe will appear in the list. Download the files from there and your problems are solved!\n",
    "\n",
    "**That didn't help?**\n",
    "\n",
    "It is possible that even when ensuring the BioCyc database is correct, the __Accession-1__ column of genes.txt is still not consistent. However, you can assume that the correct IDs are somewhere in the database, since you found it looking for a gene id that follows your conventions. \n",
    "\n",
    "Try:\n",
    "* Adding new columns in the gene __SmartTable__, __Accession-2__ or __Synonyms__ could contain your IDs.\n",
    "* Maybe your IDs and BioCyc's only differ by an underscore, e.g. \"PP0001\" and \"PP_0001\". Use a text editor to change the IDs accordingly in __Accession-1__ of </code>genes.txt</code>. Make sure not to make a mistake by editing gene IDs!"
   ]
  },
  {
   "cell_type": "markdown",
   "id": "a1c7d7cf-df1d-4978-9846-c279be2404ef",
   "metadata": {},
   "source": [
    "#### 2. M-model and Genbank are not consistent\n",
    "Make sure that you downloaded the same genbank file that was used to reconstruct the M-model, that is critical! If this is happening, you probably have the wrong genbank.\n",
    "\n",
    "If you have a gene dictionary to convert between conventions, change the files to the IDs that are consistent with BioCyc."
   ]
  }
 ],
 "metadata": {
  "kernelspec": {
   "display_name": "me_modeling_new",
   "language": "python",
   "name": "me_modeling_new"
  },
  "language_info": {
   "codemirror_mode": {
    "name": "ipython",
    "version": 3
   },
   "file_extension": ".py",
   "mimetype": "text/x-python",
   "name": "python",
   "nbconvert_exporter": "python",
   "pygments_lexer": "ipython3",
   "version": "3.7.8"
  }
 },
 "nbformat": 4,
 "nbformat_minor": 5
}
