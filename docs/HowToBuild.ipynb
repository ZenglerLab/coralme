{
 "cells": [
  {
   "cell_type": "markdown",
   "id": "dbfb1aa7-3761-404c-adc6-880fdb4c6305",
   "metadata": {},
   "source": [
    "# How to build a ME-model using coralME\n",
    "----------"
   ]
  },
  {
   "cell_type": "markdown",
   "id": "aa3307bf-2c32-484d-877a-8d4811a5db02",
   "metadata": {},
   "source": [
    "## 1. Initialize the folder for your organism\n",
    "----------"
   ]
  },
  {
   "cell_type": "markdown",
   "id": "aee34bf9-b71e-46cc-a09e-0be6b8bd394b",
   "metadata": {},
   "source": []
  },
  {
   "cell_type": "markdown",
   "id": "86d0fd36-82c3-456b-a24e-3392310419dd",
   "metadata": {},
   "source": [
    "## 2. Set the parameters\n",
    "----------"
   ]
  },
  {
   "cell_type": "markdown",
   "id": "89ba1330-c461-450f-993a-80cc15862577",
   "metadata": {},
   "source": []
  },
  {
   "cell_type": "markdown",
   "id": "7b1cb1b7-8502-4f96-8dd6-49fd8d0709f4",
   "metadata": {},
   "source": [
    "## 3. Copy inputs in the folder\n",
    "----------"
   ]
  },
  {
   "cell_type": "markdown",
   "id": "1cf4c481-677c-43bf-a8ec-6feaf8cdff1d",
   "metadata": {},
   "source": []
  },
  {
   "cell_type": "markdown",
   "id": "d0c04dde-9cee-43ea-83d8-5a54828992f1",
   "metadata": {},
   "source": [
    "## 4. Run coralME\n",
    "----------"
   ]
  },
  {
   "cell_type": "markdown",
   "id": "5189acdd-ef2d-4d88-aeb9-f7e59a87f409",
   "metadata": {},
   "source": []
  },
  {
   "cell_type": "markdown",
   "id": "817340b5-06b1-4f28-b0fe-c03e11f62f6d",
   "metadata": {},
   "source": [
    "## 5. Manual curation\n",
    "----------"
   ]
  },
  {
   "cell_type": "markdown",
   "id": "69ddf9dd-e6a0-4015-9215-54faedf2ccf7",
   "metadata": {},
   "source": []
  }
 ],
 "metadata": {
  "kernelspec": {
   "display_name": "me_modeling_new",
   "language": "python",
   "name": "me_modeling_new"
  },
  "language_info": {
   "codemirror_mode": {
    "name": "ipython",
    "version": 3
   },
   "file_extension": ".py",
   "mimetype": "text/x-python",
   "name": "python",
   "nbconvert_exporter": "python",
   "pygments_lexer": "ipython3",
   "version": "3.7.8"
  }
 },
 "nbformat": 4,
 "nbformat_minor": 5
}
