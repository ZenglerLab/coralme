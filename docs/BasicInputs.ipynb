{
 "cells": [
  {
   "cell_type": "markdown",
   "id": "dbfb1aa7-3761-404c-adc6-880fdb4c6305",
   "metadata": {},
   "source": [
    "# Description of Inputs\n",
    "----------"
   ]
  },
  {
   "cell_type": "markdown",
   "id": "06516aeb-7c58-4d94-8def-580b08b00ee0",
   "metadata": {},
   "source": [
    "coralME takes a total of 6 inputs, 2 required and 4 optional:\n",
    "\n",
    "### Required\n",
    "1. Genome file (<code>genome.gb</code>)\n",
    "2. M-model (<code>m_model.json</code>)\n",
    "\n",
    "### Optional\n",
    "Downloadable from an existing BioCyc database. If not provided, they are generated from <code>genome.gb</code>.\n",
    "\n",
    "3. <code>genes.txt</code>\n",
    "4. <code>RNAs.txt</code>\n",
    "5. <code>proteins.txt</code>\n",
    "6. <code>TUs.txt.</code>\n"
   ]
  },
  {
   "cell_type": "markdown",
   "id": "4c77ad67-e6d9-4803-b9b7-7fb6bfa3d5c5",
   "metadata": {},
   "source": [
    "![](./inputs.png)"
   ]
  },
  {
   "cell_type": "markdown",
   "id": "5afa35ec-e485-4135-ae58-4d4aae93c151",
   "metadata": {},
   "source": [
    "## 1. Genome (<code>genome.gb</code>)\n",
    "----------"
   ]
  },
  {
   "cell_type": "markdown",
   "id": "85e9f705-8137-4736-bfc4-7e49d3194a8b",
   "metadata": {},
   "source": [
    "The genome file contains provides coralME with:\n",
    "* Gene annotations.\n",
    "* Gene positions."
   ]
  },
  {
   "cell_type": "markdown",
   "id": "e7e21506-dd98-4a4c-b0ee-ef594dbdce0d",
   "metadata": {},
   "source": [
    "#### Requirements\n",
    "\n",
    "1. Has name <code>genome.gb</code>.\n",
    "2. Genbank-compliant file. Must be read by BioPython correctly.\n",
    "3. If it does not contain the entire genome sequence, you must provide a second file as a FASTA file called <code>sequence.fasta</code>."
   ]
  },
  {
   "cell_type": "markdown",
   "id": "2f561f2e-628b-4b2b-8952-89077d35f59e",
   "metadata": {},
   "source": [
    "<b>See an example of [genome.gb](./helper_files/genome.gb) and [sequence.fasta](./helper_files/sequence.fasta)</b>"
   ]
  },
  {
   "cell_type": "markdown",
   "id": "6d682750-457a-4ccb-81da-452cd35a2abf",
   "metadata": {},
   "source": [
    "## 2. M-model (<code>m_model.json</code>)\n",
    "----------"
   ]
  },
  {
   "cell_type": "markdown",
   "id": "9a65f985-9b1e-467c-aa4c-e5619bbc3dba",
   "metadata": {},
   "source": [
    "The M-model provides coralME with the metabolic model components:\n",
    "* Metabolic network (M-matrix)\n",
    "* Gene-protein-reaction associations\n",
    "* Environmental and internal constraints\n",
    "* Reaction subsystems\n",
    "* Biomass composition"
   ]
  },
  {
   "cell_type": "markdown",
   "id": "c28fed0f-c8be-4ee6-a44e-bba3cb3e9ad4",
   "metadata": {},
   "source": [
    "#### Requirements\n",
    "This file should meet the following requirements:\n",
    "1. Has name <code>m_model.json</code>.\n",
    "2. COBRApy-compliant. Must be read by cobrapy-0.25.0."
   ]
  },
  {
   "cell_type": "markdown",
   "id": "acbfb2b3-e80e-4564-965d-5d8305c7b189",
   "metadata": {},
   "source": [
    "<b>See an example of [m_model.json](./helper_files/m_model.json)</b>"
   ]
  },
  {
   "cell_type": "markdown",
   "id": "bb9d6160-c642-4876-8f12-8c6e0fb60538",
   "metadata": {},
   "source": [
    "## 3. Gene dictionary (<code>genes.txt</code>) [optional]\n",
    "----------"
   ]
  },
  {
   "cell_type": "markdown",
   "id": "9ded3740-aaa4-41a6-bbb7-5a9409da7a31",
   "metadata": {},
   "source": [
    "<code>genes.txt</code> is a gene information table that can be downloaded from the <b>All genes of <i>organism</i> SmartTable</b> of the <b>[BioCyc](https://biocyc.org/)</b> database. <b>This file is optional and is meant to complement the information from <code>genome.gb</code> in case the latter is missing genes.</b>\n",
    "\n",
    "<code>genes.txt</code> provides coralME with:\n",
    "* Gene locus tags\n",
    "* Gene names\n",
    "* Gene annotations\n",
    "* Gene positions\n",
    "* Gene products (protein, tRNA, etc.)"
   ]
  },
  {
   "cell_type": "markdown",
   "id": "0213c150-af6d-4f24-811a-64a93253ac35",
   "metadata": {},
   "source": [
    "#### Requirements\n",
    "This file should meet the following requirements:\n",
    "1. Contains the index <b>Gene Name</b> and columns <b>Accession-1</b>, <b>Left-End-Position</b>, <b>Right-End-Position</b>, and <b>Product</b>.\n",
    "2. <b>Accession-1</b> is consistent with the gene IDs in the GPRs of <code>m_model.json</code> and with the locus_tag (or old_locus_tag) in <code>genome.gb</code>.\n",
    "3. <b>Gene Name</b> is consistent with:\n",
    "    * Column <b>Genes of polypeptide, complex, or RNA</b> of <code>proteins.txt</code>\n",
    "    * Column <b>Gene</b> of <code>RNAs.txt</code> \n",
    "    * Column <b>Genes of transcription unit</b> of <code>TUs.txt</code>\n",
    "4. <b>Product</b> is consistent with:\n",
    "    * Index of <code>proteins.txt</code>\n",
    "    * Index of <code>RNAs.txt</code>\n",
    "5. Must be tab-separated\n",
    "    \n",
    "#### Notes\n",
    "* <b>Requirements 3, 4 and 5</b> regarding ID consistency should be directly met if the files are downloaded from the same BioCyc database.\n",
    "* <b>Left-End-Position</b> and <b>Right-End-Position</b> do not need to be consistent with the positions <code>genome.gb</code>. coralME will keep the positions in <code>genome.gb</code> over the specified ones in <code>genes.txt</code>\n",
    "    "
   ]
  },
  {
   "cell_type": "markdown",
   "id": "adaf4662-e50a-42d3-81be-4c86e0f04e63",
   "metadata": {},
   "source": [
    "<b>See an example of [genes.txt](./helper_files/genes.txt)</b>"
   ]
  },
  {
   "cell_type": "markdown",
   "id": "ddfee514-b485-48b6-8fce-a9bdbbda86fe",
   "metadata": {},
   "source": [
    "## 4. Proteins (<code>proteins.txt</code>) [optional]\n",
    "----------"
   ]
  },
  {
   "cell_type": "markdown",
   "id": "4fb432b9-91fc-44d0-bea3-ff0f4502a8a0",
   "metadata": {},
   "source": [
    "<code>proteins.txt</code> is a protein complex information table that can be downloaded from the <b>All proteins of <i>organism</i> SmartTable</b> of the <b>[BioCyc](https://biocyc.org/)</b> database. <b>This file is optional and is meant to complement the information from <code>genome.gb</code>.</b>\n",
    "\n",
    "<code>proteins.txt</code> provides coralME with:\n",
    "* Protein complex compositions"
   ]
  },
  {
   "cell_type": "markdown",
   "id": "6aa1307f-7ad5-4d8e-b5db-3f7934173f36",
   "metadata": {},
   "source": [
    "#### Requirements\n",
    "This file should meet the following requirements:\n",
    "1. Contains the index <b>(Proteins Complexes)</b> and columns <b>Common-Name</b>, <b>Genes of polypeptide, complex, or RNA</b>, and <b>Locations</b>.\n",
    "2. <b>(Proteins Complexes)</b> is consistent with:\n",
    "    * Column <b>Product</b> of <code>genes.txt</code>\n",
    "3. <b>Genes of polypeptide, complex, or RNA</b> is consistent with:\n",
    "    * Index <b>Gene Name</b> of <code>genes.txt</code>\n",
    "4. Must be tab-separated\n",
    "    \n",
    "#### Notes\n",
    "* <b>Requirements 2, 3 and 4</b> regarding ID consistency should be directly met if the files are downloaded from the same BioCyc database.    "
   ]
  },
  {
   "cell_type": "markdown",
   "id": "e081bdb6-aa41-4ced-90a5-c262343e759d",
   "metadata": {},
   "source": [
    "<b>See an example of [proteins.txt](./helper_files/proteins.txt)</b>"
   ]
  },
  {
   "cell_type": "markdown",
   "id": "37d1e491-259c-4add-b863-e67ff301033c",
   "metadata": {},
   "source": [
    "## 5. RNAs (<code>RNAs.txt</code>) [optional]\n",
    "----------"
   ]
  },
  {
   "cell_type": "markdown",
   "id": "0de2b032-94fb-4e5e-98d6-bd235b349627",
   "metadata": {},
   "source": [
    "<code>RNAs.txt</code> is an RNA annotation table that can be downloaded from the <b>All RNAs of <i>organism</i> SmartTable</b> of the <b>[BioCyc](https://biocyc.org/)</b> database. <b>This file is optional and is meant to complement the information from <code>genome.gb</code>.</b>\n",
    "\n",
    "<code>RNAs.txt</code> provides coralME with:\n",
    "* Genes annotated as RNA products (e.g. tRNA, rRNA, etc.)\n",
    "* RNA gene annotations (e.g. amino acids - tRNA associations)"
   ]
  },
  {
   "cell_type": "markdown",
   "id": "82313222-2621-463c-8bb9-34e407f0aac2",
   "metadata": {},
   "source": [
    "#### Requirements\n",
    "This file should meet the following requirements:\n",
    "1. Contains the index <b>(All-tRNAs Misc-RNAs rRNAs)</b> and columns <b>Common-Name</b>, and <b>Gene</b>\n",
    "2. <b>(All-tRNAs Misc-RNAs rRNAs)</b> is consistent with:\n",
    "    * Column <b>Product</b> of <code>genes.txt</code>\n",
    "3. <b>Gene</b> is consistent with:\n",
    "    * Index <b>Gene Name</b> of <code>genes.txt</code>\n",
    "4. Must be tab-separated\n",
    "    \n",
    "#### Notes\n",
    "* <b>Requirements 2, 3 and 4</b> regarding ID consistency should be directly met if the files are downloaded from the same BioCyc database.    "
   ]
  },
  {
   "cell_type": "markdown",
   "id": "aa8593aa-340b-49f6-ad4a-242062106d49",
   "metadata": {},
   "source": [
    "<b>See an example of [RNAs.txt](./helper_files/RNAs.txt)</b>"
   ]
  },
  {
   "cell_type": "markdown",
   "id": "b734e85f-de85-463e-85d7-5d094a97274d",
   "metadata": {},
   "source": [
    "## 6. TUs (<code>TUs.txt</code>) [optional]\n",
    "----------"
   ]
  },
  {
   "cell_type": "markdown",
   "id": "5d1ea005-9fc3-4dbf-bf9b-200100dd23a9",
   "metadata": {},
   "source": [
    "<code>TUs.txt</code> is a transcription unit annotation table that can be downloaded from the <b>All TUs of <i>organism</i> SmartTable</b> of the <b>[BioCyc](https://biocyc.org/)</b> database. <b>This file is optional and is meant to complement the information from <code>genome.gb</code>.</b>\n",
    "\n",
    "<code>TUs.txt</code> provides coralME with:\n",
    "* Co-transcribed genes (operons).\n",
    "* Direction of transcription.\n",
    "* TU IDs."
   ]
  },
  {
   "cell_type": "markdown",
   "id": "73c53359-c89b-4f43-84b3-0f90a7d672cb",
   "metadata": {},
   "source": [
    "#### Requirements\n",
    "This file should meet the following requirements:\n",
    "1. Contains the index <b>Transcription-Units</b> and columns <b>Genes of transcription unit</b>, and <b>Direction</b>\n",
    "2. <b>Genes of transcription unit</b> is consistent with:\n",
    "    * Index <b>Gene Name</b> of <code>genes.txt</code>\n",
    "3. Must be tab-separated\n",
    "    \n",
    "#### Notes\n",
    "* <b>Requirements 2 and 3</b> regarding ID consistency should be directly met if the files are downloaded from the same BioCyc database.    "
   ]
  },
  {
   "cell_type": "markdown",
   "id": "0d080058-04e6-43b0-842c-a32412921157",
   "metadata": {},
   "source": [
    "<b>See an example of [TUs.txt](./helper_files/TUs.txt)</b>"
   ]
  },
  {
   "cell_type": "code",
   "execution_count": null,
   "id": "40080139-2c9d-499d-95af-c8eb5cf1a01a",
   "metadata": {},
   "outputs": [],
   "source": []
  }
 ],
 "metadata": {
  "kernelspec": {
   "display_name": "me_modeling_new",
   "language": "python",
   "name": "me_modeling_new"
  },
  "language_info": {
   "codemirror_mode": {
    "name": "ipython",
    "version": 3
   },
   "file_extension": ".py",
   "mimetype": "text/x-python",
   "name": "python",
   "nbconvert_exporter": "python",
   "pygments_lexer": "ipython3",
   "version": "3.7.8"
  }
 },
 "nbformat": 4,
 "nbformat_minor": 5
}
