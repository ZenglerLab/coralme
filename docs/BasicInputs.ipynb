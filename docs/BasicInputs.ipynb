{
 "cells": [
  {
   "cell_type": "markdown",
   "id": "dbfb1aa7-3761-404c-adc6-880fdb4c6305",
   "metadata": {},
   "source": [
    "# Description of Inputs"
   ]
  },
  {
   "cell_type": "markdown",
   "id": "06516aeb-7c58-4d94-8def-580b08b00ee0",
   "metadata": {},
   "source": [
    "coralME takes a total of 6 inputs, 2 required and 4 optional:\n",
    "\n",
    "### Required\n",
    "1. Genome file (genome.gb)\n",
    "2. M-model (m_model.json)\n",
    "\n",
    "### Optional\n",
    "Downloadable from an existing BioCyc database:\n",
    "\n",
    "3. genes.txt\n",
    "4. RNAs.txt\n",
    "5. proteins.txt\n",
    "6. TUs.txt. \n"
   ]
  },
  {
   "cell_type": "markdown",
   "id": "4c77ad67-e6d9-4803-b9b7-7fb6bfa3d5c5",
   "metadata": {},
   "source": [
    "<figure>\n",
    "<figtitle align = \"center\"> <b>Arquitecture of the pipeline</b> </figtitle>\n",
    "<img src=\"pipeline.png\" style=\"width:100%\">\n",
    "</figure>"
   ]
  },
  {
   "cell_type": "markdown",
   "id": "232b970e-3b1c-4a28-8869-d286b8d85048",
   "metadata": {},
   "source": [
    "In brief, <code>Organism()</code> "
   ]
  },
  {
   "cell_type": "markdown",
   "id": "dfa220fb-8d49-4568-bf66-87c6b15686c1",
   "metadata": {},
   "source": [
    "## Orga"
   ]
  }
 ],
 "metadata": {
  "kernelspec": {
   "display_name": "me_modeling_new",
   "language": "python",
   "name": "me_modeling_new"
  },
  "language_info": {
   "codemirror_mode": {
    "name": "ipython",
    "version": 3
   },
   "file_extension": ".py",
   "mimetype": "text/x-python",
   "name": "python",
   "nbconvert_exporter": "python",
   "pygments_lexer": "ipython3",
   "version": "3.7.8"
  }
 },
 "nbformat": 4,
 "nbformat_minor": 5
}
