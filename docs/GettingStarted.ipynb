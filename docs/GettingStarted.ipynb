{
 "cells": [
  {
   "cell_type": "markdown",
   "id": "dbfb1aa7-3761-404c-adc6-880fdb4c6305",
   "metadata": {},
   "source": [
    "# Getting started\n",
    "----------"
   ]
  },
  {
   "cell_type": "markdown",
   "id": "d22596c4-719a-4845-a138-a73e2a9a363a",
   "metadata": {},
   "source": [
    "## 1. Initialize the folder for your organism\n",
    "----------\n",
    "#### Generate a folder that looks like this (left)."
   ]
  },
  {
   "cell_type": "markdown",
   "id": "82deeea7-d34e-4f41-a887-5c120609c96b",
   "metadata": {},
   "source": [
    "<img src=\"./pngs/folder.png\" alt=\"Drawing\" style=\"width: 600px;\"/>"
   ]
  },
  {
   "cell_type": "markdown",
   "id": "875d315d-3558-483f-9176-cc265d19957e",
   "metadata": {},
   "source": [
    "#### For details on what these files are, go to [BasicInputs.ipynb](./BasicInputs.ipynb). If you don't know how to download them, go to the [FAQ](./FAQ.ipynb).\n"
   ]
  },
  {
   "cell_type": "markdown",
   "id": "0ff7a440-83ea-4758-b885-01f28f64fdbc",
   "metadata": {},
   "source": [
    "## 2. Set the parameters\n",
    "----------"
   ]
  },
  {
   "cell_type": "markdown",
   "id": "09abdb74-fb13-424a-b70e-a84b6e5f9834",
   "metadata": {},
   "source": [
    "#### Define inputs in __inputs.json__\n"
   ]
  },
  {
   "cell_type": "code",
   "execution_count": null,
   "id": "25c98deb-4a16-4a5c-af64-4070af43c4ee",
   "metadata": {
    "tags": []
   },
   "outputs": [],
   "source": [
    "import json\n",
    "print(\"Copy this and modify in inputs.json:\")\n",
    "print(json.dumps({\n",
    "    # Required inputs\n",
    "    \"m-model-path\" : \"./helper_files/pputida_tutorial/inputs/m_model.json\",\n",
    "    \"genbank-path\" : \"./helper_files/pputida_tutorial/inputs/genome.gb\",\n",
    "    \n",
    "    # Optional files\n",
    "    \"biocyc.genes\" : \"./helper_files/pputida_tutorial/inputs/genes.txt\",\n",
    "    \"biocyc.prots\" : \"./helper_files/pputida_tutorial/inputs/proteins.txt\",\n",
    "    \"biocyc.TUs\" : \"./helper_files/pputida_tutorial/inputs/TUs.txt\",\n",
    "    \"biocyc.RNAs\" : \"./helper_files/pputida_tutorial/inputs/RNAs.txt\",\n",
    "    \"biocyc.seqs\" : \"./helper_files/pputida_tutorial/inputs/sequences.fasta\",\n",
    "    \n",
    "    # \n",
    "    \"df_gene_cplxs_mods_rxns\" : \"./helper_files/pputida_tutorial/building_data/automated-org-with-refs.xlsx\",\n",
    "    \"df_TranscriptionalUnits\" : \"\",\n",
    "    \"df_matrix_stoichiometry\" : \"\",\n",
    "    \"df_matrix_subrxn_stoich\" : \"./helper_files/pputida_tutorial/inputs/subreaction_matrix.txt\",\n",
    "    \"df_metadata_orphan_rxns\" : \"\",\n",
    "    \"df_metadata_metabolites\" : \"\",\n",
    "    \n",
    "    # Where to store the outputs\n",
    "    \"out_directory\" : \"./helper_files/pputida_tutorial\",\n",
    "    # Where to store the log\n",
    "    \"log_directory\" : \"./helper_files/pputida_tutorial\",\n",
    "    \n",
    "    # Run blast?\n",
    "    \"run_bbh_blast\" : True,\n",
    "    # Use standard reference iJL1678b-ME?\n",
    "    \"dev_reference\" : True,\n",
    "    # Include pseudo genes?\n",
    "    \"include_pseudo_genes\" : True,\n",
    "    # Use locus_tag or olg_locus_tag?\n",
    "    \"locus_tag\" : \"locus_tag\"\n",
    "\n",
    "}\n",
    ",indent=2))"
   ]
  },
  {
   "cell_type": "markdown",
   "id": "3d577d1c-09e0-46bb-846e-0f4b13131c42",
   "metadata": {},
   "source": [
    "## 3. Define model ID in __organism.json__\n",
    "----------"
   ]
  },
  {
   "cell_type": "code",
   "execution_count": null,
   "id": "588ea70c-ee7b-4bbb-96da-3fe22b41fb50",
   "metadata": {
    "jupyter": {
     "source_hidden": true
    },
    "tags": []
   },
   "outputs": [],
   "source": [
    "print(json.dumps({\"model_id\" : \"pputida_tutorial\"},indent=2))"
   ]
  },
  {
   "cell_type": "markdown",
   "id": "94f363f7-acfe-4ee1-9ab9-0a213a63ba5d",
   "metadata": {},
   "source": [
    "## 4. Reconstruct with coralME\n",
    "----------"
   ]
  },
  {
   "cell_type": "markdown",
   "id": "ce4370b2-16e6-44af-b97f-9c8aff623045",
   "metadata": {},
   "source": [
    "#### Import packages\n"
   ]
  },
  {
   "cell_type": "code",
   "execution_count": 1,
   "id": "345665c4-32c3-4727-a3b5-40f38a3898f4",
   "metadata": {},
   "outputs": [
    {
     "name": "stderr",
     "output_type": "stream",
     "text": [
      "/home/jt/UCSD/coralme/coralme/builder/main.py:28: UserWarning: This pandas version does not allow for correct warning handling. Pandas >=1.5.1 is suggested.\n",
      "  warnings.warn(\"This pandas version does not allow for correct warning handling. Pandas >=1.5.1 is suggested.\")\n",
      "/home/jt/UCSD/coralme/coralme/builder/preprocess_inputs.py:12: UserWarning: This pandas version does not allow for correct warning handling. Pandas >=1.5.1 is suggested.\n",
      "  warnings.warn(\"This pandas version does not allow for correct warning handling. Pandas >=1.5.1 is suggested.\")\n"
     ]
    }
   ],
   "source": [
    "from coralme.builder.main import MEBuilder"
   ]
  },
  {
   "cell_type": "markdown",
   "id": "47329e86-82ef-475e-a0b2-1c795dd61647",
   "metadata": {},
   "source": [
    "#### Define organism and inputs"
   ]
  },
  {
   "cell_type": "code",
   "execution_count": 2,
   "id": "2e0e9e63-c7f1-4a69-8478-7ffe71c6bf07",
   "metadata": {},
   "outputs": [],
   "source": [
    "org = 'pputida_tutorial'\n",
    "organism = './helper_files/{:s}/organism.json'.format(org)\n",
    "inputs = './helper_files/{:s}/input.json'.format(org)"
   ]
  },
  {
   "cell_type": "markdown",
   "id": "4646d05b-be94-4136-bb7f-debf2f3aa95f",
   "metadata": {},
   "source": [
    "#### Create builder"
   ]
  },
  {
   "cell_type": "code",
   "execution_count": 3,
   "id": "f04001c0-8b9b-41fa-9a17-55ca6006af41",
   "metadata": {
    "ExecuteTime": {
     "end_time": "2022-12-12T06:30:28.060280Z",
     "start_time": "2022-12-12T06:30:01.706785Z"
    },
    "scrolled": true,
    "tags": []
   },
   "outputs": [
    {
     "name": "stdout",
     "output_type": "stream",
     "text": [
      "Set parameter Username\n",
      "Academic license - for non-commercial use only - expires 2024-01-12\n"
     ]
    }
   ],
   "source": [
    "builder = MEBuilder(*[organism, inputs])"
   ]
  },
  {
   "cell_type": "markdown",
   "id": "8a75a27a-92e2-4f56-8ca8-42ca48b03a1a",
   "metadata": {},
   "source": [
    "#### Generate files"
   ]
  },
  {
   "cell_type": "code",
   "execution_count": 4,
   "id": "17b488c8-822e-4598-a72e-33367294b3b2",
   "metadata": {
    "scrolled": true,
    "tags": []
   },
   "outputs": [
    {
     "name": "stdout",
     "output_type": "stream",
     "text": [
      "Initiating file processing...\n",
      "~ Processing files for pputida_tutorial...\n"
     ]
    },
    {
     "name": "stderr",
     "output_type": "stream",
     "text": [
      "Checking M-model metabolites...                                            : 100.0%|████████████████████████████████████████|  2153/ 2153 [00:00<00:00]\n",
      "Checking M-model reactions...                                              : 100.0%|████████████████████████████████████████|  2927/ 2927 [00:00<00:00]\n",
      "Generating complexes dataframe from optional proteins file...              : 100.0%|████████████████████████████████████████|  5779/ 5779 [00:01<00:00]\n",
      "Syncing optional genes file...                                             : 100.0%|████████████████████████████████████████|  5785/ 5785 [00:00<00:00]\n",
      "Updating Genbank file with optional files...                               : 100.0%|████████████████████████████████████████|  5785/ 5785 [00:01<00:00]\n",
      "Syncing optional files with genbank contigs...                             : 100.0%|████████████████████████████████████████|     1/    1 [00:58<00:00]\n",
      "Purging M-model genes...                                                   : 100.0%|████████████████████████████████████████|  1462/ 1462 [00:00<00:00]\n",
      "Getting sigma factors...                                                   : 100.0%|████████████████████████████████████████|    27/   27 [00:00<00:00]\n",
      "Looking for duplicates within datasets...                                  : 100.0%|████████████████████████████████████████|     5/    5 [00:00<00:00]\n",
      "Gathering ID occurrences across datasets...                                : 100.0%|████████████████████████████████████████| 14730/14730 [00:00<00:00]\n",
      "Asessing duplicates across datasets...                                     : 0.0%|                                              |     0/    0 [00:00<?]\n",
      "Getting generics from Genbank contigs...                                   : 100.0%|████████████████████████████████████████|     1/    1 [00:00<00:00]\n",
      "Processing optional TUs file...                                            : 100.0%|████████████████████████████████████████|  3707/ 3707 [00:00<00:00]\n",
      "Getting TU-gene associations from optional TUs file...                     : 100.0%|████████████████████████████████████████|  3707/ 3707 [00:00<00:00]\n",
      "Gathering ribosome stoichiometry...                                        : 100.0%|████████████████████████████████████████|    58/   58 [00:00<00:00]\n",
      "Adding protein location...                                                 : 100.0%|████████████████████████████████████████|  5779/ 5779 [00:06<00:00]\n"
     ]
    },
    {
     "name": "stdout",
     "output_type": "stream",
     "text": [
      "~ Reading pputida_tutorial done...\n"
     ]
    },
    {
     "name": "stderr",
     "output_type": "stream",
     "text": [
      "Modifying metabolic reactions with manual curation...                      : 0.0%|                                              |     0/    0 [00:00<?]\n",
      "Gathering M-model compartments...                                          : 100.0%|████████████████████████████████████████|     3/    3 [00:00<00:00]\n",
      "Fixing compartments in M-model metabolites...                              : 100.0%|████████████████████████████████████████|  2153/ 2153 [00:00<00:00]\n",
      "Fixing missing names in M-model reactions...                               : 100.0%|████████████████████████████████████████|  2927/ 2927 [00:00<00:00]\n"
     ]
    },
    {
     "name": "stdout",
     "output_type": "stream",
     "text": [
      "~ Processing files for iJL1678b...\n"
     ]
    },
    {
     "name": "stderr",
     "output_type": "stream",
     "text": [
      "Checking M-model metabolites...                                            : 100.0%|████████████████████████████████████████|  2153/ 2153 [00:00<00:00]\n",
      "Checking M-model reactions...                                              : 100.0%|████████████████████████████████████████|  2927/ 2927 [00:00<00:00]\n",
      "Purging M-model genes...                                                   : 100.0%|████████████████████████████████████████|  1462/ 1462 [00:00<00:00]\n",
      "Getting sigma factors...                                                   : 100.0%|████████████████████████████████████████|     7/    7 [00:00<00:00]\n",
      "Looking for duplicates within datasets...                                  : 100.0%|████████████████████████████████████████|     5/    5 [00:00<00:00]\n",
      "Gathering ID occurrences across datasets...                                : 100.0%|████████████████████████████████████████| 10252/10252 [00:00<00:00]\n",
      "Asessing duplicates across datasets...                                     : 0.0%|                                              |     0/    0 [00:00<?]\n",
      "Getting TU-gene associations from optional TUs file...                     : 100.0%|████████████████████████████████████████|  3707/ 3707 [00:00<00:00]\n",
      "Adding protein location...                                                 : 100.0%|████████████████████████████████████████|  1302/ 1302 [00:00<00:00]\n"
     ]
    },
    {
     "name": "stdout",
     "output_type": "stream",
     "text": [
      "~ Reading iJL1678b done...\n"
     ]
    },
    {
     "name": "stderr",
     "output_type": "stream",
     "text": [
      "Converting Genbank contigs to FASTA for BLAST...                           : 100.0%|████████████████████████████████████████|     1/    1 [00:00<00:00]\n",
      "Converting Genbank contigs to FASTA for BLAST...                           : 100.0%|████████████████████████████████████████|     1/    1 [00:00<00:00]\n",
      "Updating translocation machinery from homology...                          : 100.0%|████████████████████████████████████████|     9/    9 [00:00<00:00]\n",
      "Updating protein location from homology...                                 : 100.0%|████████████████████████████████████████|   514/  514 [00:02<00:00]\n",
      "Updating translocation multipliers from homology...                        : 0.0%|                                              |     0/    0 [00:00<?]\n",
      "Updating lipoprotein precursors from homology...                           : 100.0%|████████████████████████████████████████|    14/   14 [00:00<00:00]\n",
      "Updating cleaved-methionine proteins from homology...                      : 0.0%|                                              |     0/  343 [00:00<?]\n",
      "Mapping M-metabolites to E-metabolites...                                  : 100.0%|████████████████████████████████████████|   146/  146 [00:00<00:00]\n",
      "Updating generics from homology...                                         : 100.0%|████████████████████████████████████████|     9/    9 [00:00<00:00]\n",
      "Updating folding from homology...                                          : 100.0%|████████████████████████████████████████|     2/    2 [00:00<00:00]\n",
      "Updating ribosome subreaction machinery from homology...                   : 100.0%|████████████████████████████████████████|     3/    3 [00:00<00:00]\n",
      "Updating rRNA modifications from homology...                               : 100.0%|████████████████████████████████████████|    36/   36 [00:00<00:00]\n",
      "Updating tRNA synthetases from homology...                                 : 100.0%|████████████████████████████████████████|    20/   20 [00:00<00:00]\n",
      "Updating peptide release factors from homology...                          : 100.0%|████████████████████████████████████████|     3/    3 [00:00<00:00]\n",
      "Updating transcription subreactions machinery from homology...             : 100.0%|████████████████████████████████████████|     4/    4 [00:00<00:00]\n",
      "Updating translation initiation subsreactions from homology...             : 100.0%|████████████████████████████████████████|     4/    4 [00:00<00:00]\n",
      "Updating translation elongation subsreactions from homology...             : 100.0%|████████████████████████████████████████|     2/    2 [00:00<00:00]\n",
      "Updating translation termination subsreactions from homology...            : 100.0%|████████████████████████████████████████|     9/    9 [00:00<00:00]\n",
      "Updating special tRNA subreactions from homology...                        : 100.0%|████████████████████████████████████████|     1/    1 [00:00<00:00]\n",
      "Updating RNA degradosome composition from homology...                      : 100.0%|████████████████████████████████████████|     1/    1 [00:00<00:00]\n",
      "Updating excision machinery from homology...                               : 100.0%|████████████████████████████████████████|     3/    3 [00:00<00:00]\n",
      "Updating tRNA subreactions from homology...                                : 100.0%|████████████████████████████████████████|     6/    6 [00:00<00:00]\n",
      "Updating tRNA modification machinery from homology...                      : 0.0%|                                              |     0/   38 [00:00<?]\n"
     ]
    },
    {
     "ename": "KeyError",
     "evalue": "'D_at_20A'",
     "output_type": "error",
     "traceback": [
      "\u001b[0;31m---------------------------------------------------------------------------\u001b[0m",
      "\u001b[0;31mKeyError\u001b[0m                                  Traceback (most recent call last)",
      "\u001b[0;32m/tmp/ipykernel_16252/655905346.py\u001b[0m in \u001b[0;36m<module>\u001b[0;34m\u001b[0m\n\u001b[0;32m----> 1\u001b[0;31m \u001b[0mbuilder\u001b[0m\u001b[0;34m.\u001b[0m\u001b[0mgenerate_files\u001b[0m\u001b[0;34m(\u001b[0m\u001b[0moverwrite\u001b[0m\u001b[0;34m=\u001b[0m\u001b[0;32mTrue\u001b[0m\u001b[0;34m)\u001b[0m\u001b[0;34m\u001b[0m\u001b[0;34m\u001b[0m\u001b[0m\n\u001b[0m",
      "\u001b[0;32m~/UCSD/coralme/coralme/builder/main.py\u001b[0m in \u001b[0;36mgenerate_files\u001b[0;34m(self, overwrite)\u001b[0m\n\u001b[1;32m    160\u001b[0m                         \u001b[0;31m# #### Update model info with homology\u001b[0m\u001b[0;34m\u001b[0m\u001b[0;34m\u001b[0m\u001b[0;34m\u001b[0m\u001b[0m\n\u001b[1;32m    161\u001b[0m                         \u001b[0mlogging\u001b[0m\u001b[0;34m.\u001b[0m\u001b[0mwarning\u001b[0m\u001b[0;34m(\u001b[0m\u001b[0;34m\"Updating from homology\"\u001b[0m\u001b[0;34m)\u001b[0m\u001b[0;34m\u001b[0m\u001b[0;34m\u001b[0m\u001b[0m\n\u001b[0;32m--> 162\u001b[0;31m                         \u001b[0mself\u001b[0m\u001b[0;34m.\u001b[0m\u001b[0mupdate_from_homology\u001b[0m\u001b[0;34m(\u001b[0m\u001b[0;34m)\u001b[0m\u001b[0;34m\u001b[0m\u001b[0;34m\u001b[0m\u001b[0m\n\u001b[0m\u001b[1;32m    163\u001b[0m \u001b[0;34m\u001b[0m\u001b[0m\n\u001b[1;32m    164\u001b[0m         \u001b[0;31m#  TODO: Add flag for overwrite\u001b[0m\u001b[0;34m\u001b[0m\u001b[0;34m\u001b[0m\u001b[0;34m\u001b[0m\u001b[0m\n",
      "\u001b[0;32m~/UCSD/coralme/coralme/builder/main.py\u001b[0m in \u001b[0;36mupdate_from_homology\u001b[0;34m(self)\u001b[0m\n\u001b[1;32m   1185\u001b[0m                 \u001b[0mself\u001b[0m\u001b[0;34m.\u001b[0m\u001b[0mupdate_excision_machinery_from_homology\u001b[0m\u001b[0;34m(\u001b[0m\u001b[0;34m)\u001b[0m\u001b[0;34m\u001b[0m\u001b[0;34m\u001b[0m\u001b[0m\n\u001b[1;32m   1186\u001b[0m                 \u001b[0mself\u001b[0m\u001b[0;34m.\u001b[0m\u001b[0mupdate_special_modifications_from_homology\u001b[0m\u001b[0;34m(\u001b[0m\u001b[0;34m)\u001b[0m\u001b[0;34m\u001b[0m\u001b[0;34m\u001b[0m\u001b[0m\n\u001b[0;32m-> 1187\u001b[0;31m                 \u001b[0mself\u001b[0m\u001b[0;34m.\u001b[0m\u001b[0mupdate_trna_modification_from_homology\u001b[0m\u001b[0;34m(\u001b[0m\u001b[0;34m)\u001b[0m\u001b[0;34m\u001b[0m\u001b[0;34m\u001b[0m\u001b[0m\n\u001b[0m\u001b[1;32m   1188\u001b[0m                 \u001b[0mself\u001b[0m\u001b[0;34m.\u001b[0m\u001b[0mupdate_m_model\u001b[0m\u001b[0;34m(\u001b[0m\u001b[0;34m)\u001b[0m\u001b[0;34m\u001b[0m\u001b[0;34m\u001b[0m\u001b[0m\n\u001b[1;32m   1189\u001b[0m \u001b[0;34m\u001b[0m\u001b[0m\n",
      "\u001b[0;32m~/UCSD/coralme/coralme/builder/main.py\u001b[0m in \u001b[0;36mupdate_trna_modification_from_homology\u001b[0;34m(self)\u001b[0m\n\u001b[1;32m   1104\u001b[0m \t\t\t\t\ttotal=len(ref_trna_modification)):\n\u001b[1;32m   1105\u001b[0m                         \u001b[0mref_cplxs\u001b[0m \u001b[0;34m=\u001b[0m \u001b[0mv\u001b[0m\u001b[0;34m[\u001b[0m\u001b[0;34m\"enzymes\"\u001b[0m\u001b[0;34m]\u001b[0m\u001b[0;34m\u001b[0m\u001b[0;34m\u001b[0m\u001b[0m\n\u001b[0;32m-> 1106\u001b[0;31m                         \u001b[0mdefined_cplxs\u001b[0m \u001b[0;34m=\u001b[0m \u001b[0morg_trna_modification\u001b[0m\u001b[0;34m[\u001b[0m\u001b[0mk\u001b[0m\u001b[0;34m]\u001b[0m\u001b[0;34m[\u001b[0m\u001b[0;34m\"enzymes\"\u001b[0m\u001b[0;34m]\u001b[0m\u001b[0;34m\u001b[0m\u001b[0;34m\u001b[0m\u001b[0m\n\u001b[0m\u001b[1;32m   1107\u001b[0m \t\t\torg_cplxs = [\n\u001b[1;32m   1108\u001b[0m                                 \u001b[0mref_cplx_homolog\u001b[0m\u001b[0;34m[\u001b[0m\u001b[0mi\u001b[0m\u001b[0;34m]\u001b[0m \u001b[0;32mfor\u001b[0m \u001b[0mi\u001b[0m \u001b[0;32min\u001b[0m \u001b[0mref_cplxs\u001b[0m \u001b[0;32mif\u001b[0m \u001b[0mi\u001b[0m \u001b[0;32min\u001b[0m \u001b[0mref_cplx_homolog\u001b[0m\u001b[0;34m\u001b[0m\u001b[0;34m\u001b[0m\u001b[0m\n",
      "\u001b[0;31mKeyError\u001b[0m: 'D_at_20A'"
     ]
    }
   ],
   "source": [
    "builder.generate_files(overwrite=True)"
   ]
  },
  {
   "cell_type": "markdown",
   "id": "09f641ec-b47d-4356-8a7d-6e4087b35a7c",
   "metadata": {},
   "source": [
    "#### Build ME-model"
   ]
  },
  {
   "cell_type": "code",
   "execution_count": null,
   "id": "1f347e0a-7f7b-4d09-9c31-acf78befd22a",
   "metadata": {
    "ExecuteTime": {
     "end_time": "2022-12-12T06:28:36.607889Z",
     "start_time": "2022-12-12T06:27:59.542579Z"
    },
    "scrolled": true,
    "tags": []
   },
   "outputs": [],
   "source": [
    "builder.build_me_model(overwrite=False)"
   ]
  },
  {
   "cell_type": "markdown",
   "id": "83ba4f6d-7a1d-49bd-91fe-f688c215d96c",
   "metadata": {},
   "source": [
    "#### Troubleshoot ME-model"
   ]
  },
  {
   "cell_type": "code",
   "execution_count": null,
   "id": "d6d2e94e-08d7-4ba8-ab81-bccb22a5b025",
   "metadata": {},
   "outputs": [],
   "source": [
    "builder.troubleshoot(growth_key_and_value = { builder.me_model.mu : 0.001 })"
   ]
  },
  {
   "cell_type": "markdown",
   "id": "66a9bee9-2ac6-40bd-a4f1-1047cc31aba6",
   "metadata": {},
   "source": [
    "## 5. Curate manually!\n",
    "----------"
   ]
  }
 ],
 "metadata": {
  "kernelspec": {
   "display_name": "coralme",
   "language": "python",
   "name": "coralme"
  },
  "language_info": {
   "codemirror_mode": {
    "name": "ipython",
    "version": 3
   },
   "file_extension": ".py",
   "mimetype": "text/x-python",
   "name": "python",
   "nbconvert_exporter": "python",
   "pygments_lexer": "ipython3",
   "version": "3.7.8"
  }
 },
 "nbformat": 4,
 "nbformat_minor": 5
}
