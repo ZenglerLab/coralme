{
 "cells": [
  {
   "cell_type": "markdown",
   "id": "dbfb1aa7-3761-404c-adc6-880fdb4c6305",
   "metadata": {},
   "source": [
    "Getting started\n",
    "==============="
   ]
  },
  {
   "cell_type": "markdown",
   "id": "38aea7b5-c984-4087-9bc0-c6a9158f637d",
   "metadata": {},
   "source": [
    "For details on inputs go to [BasicInputs.ipynb](./BasicInputs.ipynb).\n",
    "\n",
    "For information about coralME architecture go to [coralMEArquitecture.ipynb](./coralMEArquitecture.ipynb).\n"
   ]
  },
  {
   "cell_type": "markdown",
   "id": "b83faf4c-e7ef-4b4c-b4b9-2c980931a7f4",
   "metadata": {},
   "source": [
    "Download files from BioCyc\n",
    "--------------------------"
   ]
  },
  {
   "cell_type": "markdown",
   "id": "276384ec-657b-4aa7-aba0-cfda4a2b4655",
   "metadata": {},
   "source": [
    "BioCyc files are optional but useful, you should download them after having your gene id consistent M-model and genbank files.\n",
    "\n",
    "1. Find the correct BioCyc database\n",
    "\n",
    "The quickest way to do this is to copy one of the genes from the genbank file into the BioCyc search bar. Your organism should appear in the list if it is available in BioCyc.\n",
    "\n",
    "To download:"
   ]
  },
  {
   "cell_type": "markdown",
   "id": "04801082-579a-46bf-b2af-f359251ae781",
   "metadata": {},
   "source": [
    "2. Go to <code>Tools</code>><code>Special SmartTables</code>"
   ]
  },
  {
   "cell_type": "markdown",
   "id": "db3cb707-3aba-4c47-9c66-e8bc117734ec",
   "metadata": {},
   "source": [
    "<img src=\"./pngs/1.png\" alt=\"Drawing\" style=\"width: 800px;\"/>"
   ]
  },
  {
   "cell_type": "markdown",
   "id": "34b9d71c-2c99-4269-9003-472f38c1210c",
   "metadata": {},
   "source": [
    "3. From here you can download the 5 optional BioCyc files for your organism."
   ]
  },
  {
   "cell_type": "markdown",
   "id": "14c8b16f-338b-4e99-8c3d-ed8b4e5c2222",
   "metadata": {},
   "source": [
    "<img src=\"./pngs/2.png\" alt=\"Drawing\" style=\"width: 800px;\"/>"
   ]
  },
  {
   "cell_type": "markdown",
   "id": "0d5d7dac-b2de-4f78-8c19-60ec45cc8819",
   "metadata": {},
   "source": [
    "4. Download <code>genes.txt</code> and <code>sequences.fasta</code>"
   ]
  },
  {
   "cell_type": "markdown",
   "id": "dad6ba87-4675-4904-a3c7-cb8cd085e5f0",
   "metadata": {},
   "source": [
    "<img src=\"./pngs/3.png\" alt=\"Drawing\" style=\"width: 600px;\"/>"
   ]
  },
  {
   "cell_type": "markdown",
   "id": "b13019b5-59e0-456e-b448-cab55146e61d",
   "metadata": {},
   "source": [
    "The same process of <code>genes.txt</code> applies to <code>proteins.txt</code>, <code>RNAs.txt</code> and <code>TUs.txt</code>.\n",
    "\n",
    "Some columns must be added manually using BioCyc's dropdown lists __ADD PROPERTY COLUMN__ and __ADD TRANSFORM COLUMN__ within the SmartTable editing webpage."
   ]
  },
  {
   "cell_type": "markdown",
   "id": "cc0cf2f4-bd4b-46e3-823e-c395e66d6baf",
   "metadata": {},
   "source": [
    "<img src=\"./pngs/4.png\" alt=\"Drawing\" style=\"width: 500px;\"/>"
   ]
  },
  {
   "cell_type": "markdown",
   "id": "41a66e56-90cf-4bfe-ab94-d4847307224f",
   "metadata": {},
   "source": [
    "5. Download <code>proteins.txt</code>\n",
    "\n",
    "The index <b>(Proteins Complexes)</b> is in the SmartTable by default, but you need to add the columns <b>Common-Name</b>, <b>Genes of polypeptide, complex, or RNA</b>, and <b>Locations</b>.\n",
    "\n",
    "* <b>Common-Name</b> is available in the dropdown list __ADD PROPERTY COLUMN__\n",
    "\n",
    "* <b>Genes of polypeptide, complex, or RNA</b> is available in the dropdown list __ADD TRANSFORM COLUMN__\n",
    "\n",
    "* <b>Locations</b> is available in the dropdown list __ADD PROPERTY COLUMN__."
   ]
  },
  {
   "cell_type": "markdown",
   "id": "58e51941-57d9-4aca-ba3e-9f0f0a042a77",
   "metadata": {},
   "source": [
    "6. Download <code>RNAs.txt</code>\n",
    "\n",
    "The index <b>(All-tRNAs Misc-RNAs rRNAs)</b> is in the SmartTable by default, but you need to add the columns <b>Common-Name</b>, and <b>Gene</b>.\n",
    "\n",
    "* <b>Common-Name</b> is available in the dropdown list __ADD PROPERTY COLUMN__\n",
    "\n",
    "* <b>Gene</b> is available in the dropdown list __ADD PROPERTY COLUMN__."
   ]
  },
  {
   "cell_type": "markdown",
   "id": "5be5a1f8-947b-4f13-8858-b0d5e8e02869",
   "metadata": {},
   "source": [
    "7. Download <code>TUs.txt</code>\n",
    "\n",
    "The index <b>Transcription-Units</b> is in the SmartTable by default, but you need to add the columns <b>Genes of transcription unit</b>, and <b>Direction</b>.\n",
    "\n",
    "* <b>Genes of transcription unit</b> is available in the dropdown list __ADD TRANSFORM COLUMN__\n",
    "\n",
    "* <b>Direction</b> is available in the dropdown list __ADD PROPERTY COLUMN__."
   ]
  },
  {
   "cell_type": "markdown",
   "id": "d22596c4-719a-4845-a138-a73e2a9a363a",
   "metadata": {},
   "source": [
    "Initialize the folder for your organism\n",
    "---------------------------------------\n",
    "1. Copy your files to create your initial folder"
   ]
  },
  {
   "cell_type": "markdown",
   "id": "82deeea7-d34e-4f41-a887-5c120609c96b",
   "metadata": {},
   "source": [
    "<img src=\"./pngs/folder.png\" alt=\"Drawing\" style=\"width: 600px;\"/>"
   ]
  },
  {
   "cell_type": "markdown",
   "id": "0ff7a440-83ea-4758-b885-01f28f64fdbc",
   "metadata": {},
   "source": [
    "2. Set the parameters"
   ]
  },
  {
   "cell_type": "markdown",
   "id": "09abdb74-fb13-424a-b70e-a84b6e5f9834",
   "metadata": {},
   "source": [
    "3. Define inputs in __inputs.json__\n"
   ]
  },
  {
   "cell_type": "code",
   "execution_count": null,
   "id": "25c98deb-4a16-4a5c-af64-4070af43c4ee",
   "metadata": {
    "tags": []
   },
   "outputs": [],
   "source": [
    "import json\n",
    "print(\"Copy this and modify in inputs.json:\")\n",
    "print(json.dumps({\n",
    "    # Required inputs\n",
    "    \"m-model-path\" : \"./helper_files/pputida_tutorial/inputs/m_model.json\",\n",
    "    \"genbank-path\" : \"./helper_files/pputida_tutorial/inputs/genome.gb\",\n",
    "    \n",
    "    # Optional files\n",
    "    \"biocyc.genes\" : \"./helper_files/pputida_tutorial/inputs/genes.txt\",\n",
    "    \"biocyc.prots\" : \"./helper_files/pputida_tutorial/inputs/proteins.txt\",\n",
    "    \"biocyc.TUs\" : \"./helper_files/pputida_tutorial/inputs/TUs.txt\",\n",
    "    \"biocyc.RNAs\" : \"./helper_files/pputida_tutorial/inputs/RNAs.txt\",\n",
    "    \"biocyc.seqs\" : \"./helper_files/pputida_tutorial/inputs/sequences.fasta\",\n",
    "    \n",
    "    # \n",
    "    \"df_gene_cplxs_mods_rxns\" : \"./helper_files/pputida_tutorial/building_data/automated-org-with-refs.xlsx\",\n",
    "    \"df_TranscriptionalUnits\" : \"\",\n",
    "    \"df_matrix_stoichiometry\" : \"\",\n",
    "    \"df_matrix_subrxn_stoich\" : \"./helper_files/pputida_tutorial/inputs/subreaction_matrix.txt\",\n",
    "    \"df_metadata_orphan_rxns\" : \"\",\n",
    "    \"df_metadata_metabolites\" : \"\",\n",
    "    \n",
    "    # Where to store the outputs\n",
    "    \"out_directory\" : \"./helper_files/pputida_tutorial\",\n",
    "    # Where to store the log\n",
    "    \"log_directory\" : \"./helper_files/pputida_tutorial\",\n",
    "    \n",
    "    # Run blast?\n",
    "    \"run_bbh_blast\" : True,\n",
    "    # Use standard reference iJL1678b-ME?\n",
    "    \"dev_reference\" : True,\n",
    "    # Include pseudo genes?\n",
    "    \"include_pseudo_genes\" : True,\n",
    "    # Use locus_tag or olg_locus_tag?\n",
    "    \"locus_tag\" : \"locus_tag\"\n",
    "\n",
    "}\n",
    ",indent=2))"
   ]
  },
  {
   "cell_type": "markdown",
   "id": "3d577d1c-09e0-46bb-846e-0f4b13131c42",
   "metadata": {},
   "source": [
    "4. Define model ID in __organism.json__"
   ]
  },
  {
   "cell_type": "code",
   "execution_count": null,
   "id": "588ea70c-ee7b-4bbb-96da-3fe22b41fb50",
   "metadata": {
    "tags": []
   },
   "outputs": [],
   "source": [
    "print(json.dumps({\n",
    "\t\"ME-Model-ID\" : \"pputida_tutorial\",\n",
    "\t\"growth_key\" : \"mu1\",\n",
    "\t\"complex_cofactors\" : {\n",
    "\t\t\"fes_transfers\" : { \"erpA\" : \"\", \"iscA\" : \"\", \"sufA\" : \"\" },\n",
    "\t\t\"biotin_subreactions\" : { \"mod_btn_c\" : [ \"biotin_ligase\" ] },\n",
    "\t\t\"lipoate_subreactions\" : { \"mod_lipoyl_c\" : [ \"lipoyl_denovo\", \"lipoyl_scavenging\" ] },\n",
    "\t\t\"fes_chaperones\" : {},\n",
    "\t\t\"bmocogdp_chaperones\" : {},\n",
    "\t\t\"FeFe/NiFe\" : { \"mod_FeFe_cofactor_c\" : \"\", \"mod_NiFe_cofactor_c\" : \"\" }\n",
    "\t\t},\n",
    "\n",
    "\t\"lipoprotein_precursors\" : {},\n",
    "\t\"lipid_modifications\" : [],\n",
    "\n",
    "\t\"ngam\" : 0.003285,\n",
    "\t\"gam\" : 25,\n",
    "\t\"unmodeled_protein_fraction\" : 0.36,\n",
    "\n",
    "\t\"flux_of_biomass_constituents\" : {\n",
    "\t\t},\n",
    "\n",
    "\t\"flux_of_lipid_constituents\" : {\n",
    "\t\t},\n",
    "\n",
    "\t\"braun's_lipoprotein\" : [],\n",
    "\t\"braun's_lpp_flux\" : -0.0,\n",
    "\t\"braun's_murein_flux\" : -0.0,\n",
    "\n",
    "\t\"gr_data_doublings_per_hour\" : [0, 0.6, 1.0, 1.5, 2.0, 2.5],\n",
    "    \"percent_dna_data\" : [0.0592, 0.0512, 0.0330, 0.0252, 0.0222, 0.0208],\n",
    "\n",
    "\t\"defer_to_rxn_matrix\" : [\n",
    "    ]\n",
    "}\n",
    ",indent=2))"
   ]
  },
  {
   "cell_type": "markdown",
   "id": "94f363f7-acfe-4ee1-9ab9-0a213a63ba5d",
   "metadata": {},
   "source": [
    "Reconstruct with coralME\n",
    "------------------------------"
   ]
  },
  {
   "cell_type": "markdown",
   "id": "ce4370b2-16e6-44af-b97f-9c8aff623045",
   "metadata": {},
   "source": [
    "1. Import packages"
   ]
  },
  {
   "cell_type": "code",
   "execution_count": null,
   "id": "345665c4-32c3-4727-a3b5-40f38a3898f4",
   "metadata": {},
   "outputs": [],
   "source": [
    "from coralme.builder.main import MEBuilder"
   ]
  },
  {
   "cell_type": "markdown",
   "id": "47329e86-82ef-475e-a0b2-1c795dd61647",
   "metadata": {},
   "source": [
    "2. Define organism and inputs"
   ]
  },
  {
   "cell_type": "code",
   "execution_count": null,
   "id": "2e0e9e63-c7f1-4a69-8478-7ffe71c6bf07",
   "metadata": {},
   "outputs": [],
   "source": [
    "org = 'pputida_tutorial'\n",
    "organism = './helper_files/{:s}/organism.json'.format(org)\n",
    "inputs = './helper_files/{:s}/input.json'.format(org)"
   ]
  },
  {
   "cell_type": "markdown",
   "id": "4646d05b-be94-4136-bb7f-debf2f3aa95f",
   "metadata": {},
   "source": [
    "3. Create builder"
   ]
  },
  {
   "cell_type": "code",
   "execution_count": null,
   "id": "f04001c0-8b9b-41fa-9a17-55ca6006af41",
   "metadata": {
    "ExecuteTime": {
     "end_time": "2022-12-12T06:30:28.060280Z",
     "start_time": "2022-12-12T06:30:01.706785Z"
    },
    "scrolled": true,
    "tags": []
   },
   "outputs": [],
   "source": [
    "builder = MEBuilder(*[organism, inputs])"
   ]
  },
  {
   "cell_type": "markdown",
   "id": "8a75a27a-92e2-4f56-8ca8-42ca48b03a1a",
   "metadata": {},
   "source": [
    "4. Generate files"
   ]
  },
  {
   "cell_type": "code",
   "execution_count": null,
   "id": "17b488c8-822e-4598-a72e-33367294b3b2",
   "metadata": {
    "scrolled": true,
    "tags": []
   },
   "outputs": [],
   "source": [
    "builder.generate_files(overwrite=True)"
   ]
  },
  {
   "cell_type": "markdown",
   "id": "09f641ec-b47d-4356-8a7d-6e4087b35a7c",
   "metadata": {},
   "source": [
    "5. Build ME-model"
   ]
  },
  {
   "cell_type": "code",
   "execution_count": null,
   "id": "1f347e0a-7f7b-4d09-9c31-acf78befd22a",
   "metadata": {
    "ExecuteTime": {
     "end_time": "2022-12-12T06:28:36.607889Z",
     "start_time": "2022-12-12T06:27:59.542579Z"
    },
    "scrolled": true,
    "tags": []
   },
   "outputs": [],
   "source": [
    "builder.build_me_model(overwrite=False)"
   ]
  },
  {
   "cell_type": "markdown",
   "id": "83ba4f6d-7a1d-49bd-91fe-f688c215d96c",
   "metadata": {},
   "source": [
    "6. Troubleshoot ME-model"
   ]
  },
  {
   "cell_type": "code",
   "execution_count": null,
   "id": "d6d2e94e-08d7-4ba8-ab81-bccb22a5b025",
   "metadata": {},
   "outputs": [],
   "source": [
    "builder.troubleshoot(growth_key_and_value = { builder.me_model.mu : 0.001 })"
   ]
  },
  {
   "cell_type": "markdown",
   "id": "48ceb309-6ef8-4623-8390-4d725e70d9d5",
   "metadata": {},
   "source": [
    "__Note:__ We set 0.001 as a standard value for feasibility checking, but feel free to modify it! Sometimes too high a value could put a significant strain on the model and give too many gaps to start with. Too low a value might not show you all the gaps needed."
   ]
  },
  {
   "cell_type": "markdown",
   "id": "66a9bee9-2ac6-40bd-a4f1-1047cc31aba6",
   "metadata": {},
   "source": [
    "Curate manually!\n",
    "----------------"
   ]
  },
  {
   "cell_type": "markdown",
   "id": "68e0ab02-0f4c-47e5-a927-508ae16b301d",
   "metadata": {},
   "source": [
    "For details on manual curation go to [ManualCuration.ipynb](./ManualCuration.ipynb)."
   ]
  }
 ],
 "metadata": {
  "kernelspec": {
   "display_name": "coralme",
   "language": "python",
   "name": "coralme"
  },
  "language_info": {
   "codemirror_mode": {
    "name": "ipython",
    "version": 3
   },
   "file_extension": ".py",
   "mimetype": "text/x-python",
   "name": "python",
   "nbconvert_exporter": "python",
   "pygments_lexer": "ipython3",
   "version": "3.7.8"
  }
 },
 "nbformat": 4,
 "nbformat_minor": 5
}
