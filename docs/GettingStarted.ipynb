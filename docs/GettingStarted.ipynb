{
 "cells": [
  {
   "cell_type": "markdown",
   "id": "dbfb1aa7-3761-404c-adc6-880fdb4c6305",
   "metadata": {},
   "source": [
    "# Getting started\n",
    "----------"
   ]
  },
  {
   "cell_type": "markdown",
   "id": "38aea7b5-c984-4087-9bc0-c6a9158f637d",
   "metadata": {},
   "source": [
    "#### For details on inputs go to [BasicInputs.ipynb](./BasicInputs.ipynb).\n",
    "\n",
    "#### For information about coralME architecture go to [coralMEArquitecture.ipynb](./coralMEArquitecture.ipynb).\n",
    "\n",
    "#### If you don't know how to download inputs from BioCyc or other questions, go to the [FAQ](./FAQ.ipynb).\n"
   ]
  },
  {
   "cell_type": "markdown",
   "id": "d22596c4-719a-4845-a138-a73e2a9a363a",
   "metadata": {},
   "source": [
    "## 1. Initialize the folder for your organism\n",
    "----------\n",
    "#### Generate a folder that looks like this (left)."
   ]
  },
  {
   "cell_type": "markdown",
   "id": "82deeea7-d34e-4f41-a887-5c120609c96b",
   "metadata": {},
   "source": [
    "<img src=\"./pngs/folder.png\" alt=\"Drawing\" style=\"width: 600px;\"/>"
   ]
  },
  {
   "cell_type": "markdown",
   "id": "0ff7a440-83ea-4758-b885-01f28f64fdbc",
   "metadata": {},
   "source": [
    "## 2. Set the parameters\n",
    "----------"
   ]
  },
  {
   "cell_type": "markdown",
   "id": "09abdb74-fb13-424a-b70e-a84b6e5f9834",
   "metadata": {},
   "source": [
    "#### Define inputs in __inputs.json__\n"
   ]
  },
  {
   "cell_type": "code",
   "execution_count": 5,
   "id": "25c98deb-4a16-4a5c-af64-4070af43c4ee",
   "metadata": {
    "tags": []
   },
   "outputs": [
    {
     "name": "stdout",
     "output_type": "stream",
     "text": [
      "Copy this and modify in inputs.json:\n",
      "{\n",
      "  \"m-model-path\": \"./helper_files/pputida_tutorial/inputs/m_model.json\",\n",
      "  \"genbank-path\": \"./helper_files/pputida_tutorial/inputs/genome.gb\",\n",
      "  \"biocyc.genes\": \"./helper_files/pputida_tutorial/inputs/genes.txt\",\n",
      "  \"biocyc.prots\": \"./helper_files/pputida_tutorial/inputs/proteins.txt\",\n",
      "  \"biocyc.TUs\": \"./helper_files/pputida_tutorial/inputs/TUs.txt\",\n",
      "  \"biocyc.RNAs\": \"./helper_files/pputida_tutorial/inputs/RNAs.txt\",\n",
      "  \"biocyc.seqs\": \"./helper_files/pputida_tutorial/inputs/sequences.fasta\",\n",
      "  \"df_gene_cplxs_mods_rxns\": \"./helper_files/pputida_tutorial/building_data/automated-org-with-refs.xlsx\",\n",
      "  \"df_TranscriptionalUnits\": \"\",\n",
      "  \"df_matrix_stoichiometry\": \"\",\n",
      "  \"df_matrix_subrxn_stoich\": \"./helper_files/pputida_tutorial/inputs/subreaction_matrix.txt\",\n",
      "  \"df_metadata_orphan_rxns\": \"\",\n",
      "  \"df_metadata_metabolites\": \"\",\n",
      "  \"out_directory\": \"./helper_files/pputida_tutorial\",\n",
      "  \"log_directory\": \"./helper_files/pputida_tutorial\",\n",
      "  \"run_bbh_blast\": true,\n",
      "  \"dev_reference\": true,\n",
      "  \"include_pseudo_genes\": true,\n",
      "  \"locus_tag\": \"locus_tag\"\n",
      "}\n"
     ]
    }
   ],
   "source": [
    "import json\n",
    "print(\"Copy this and modify in inputs.json:\")\n",
    "print(json.dumps({\n",
    "    # Required inputs\n",
    "    \"m-model-path\" : \"./helper_files/pputida_tutorial/inputs/m_model.json\",\n",
    "    \"genbank-path\" : \"./helper_files/pputida_tutorial/inputs/genome.gb\",\n",
    "    \n",
    "    # Optional files\n",
    "    \"biocyc.genes\" : \"./helper_files/pputida_tutorial/inputs/genes.txt\",\n",
    "    \"biocyc.prots\" : \"./helper_files/pputida_tutorial/inputs/proteins.txt\",\n",
    "    \"biocyc.TUs\" : \"./helper_files/pputida_tutorial/inputs/TUs.txt\",\n",
    "    \"biocyc.RNAs\" : \"./helper_files/pputida_tutorial/inputs/RNAs.txt\",\n",
    "    \"biocyc.seqs\" : \"./helper_files/pputida_tutorial/inputs/sequences.fasta\",\n",
    "    \n",
    "    # \n",
    "    \"df_gene_cplxs_mods_rxns\" : \"./helper_files/pputida_tutorial/building_data/automated-org-with-refs.xlsx\",\n",
    "    \"df_TranscriptionalUnits\" : \"\",\n",
    "    \"df_matrix_stoichiometry\" : \"\",\n",
    "    \"df_matrix_subrxn_stoich\" : \"./helper_files/pputida_tutorial/inputs/subreaction_matrix.txt\",\n",
    "    \"df_metadata_orphan_rxns\" : \"\",\n",
    "    \"df_metadata_metabolites\" : \"\",\n",
    "    \n",
    "    # Where to store the outputs\n",
    "    \"out_directory\" : \"./helper_files/pputida_tutorial\",\n",
    "    # Where to store the log\n",
    "    \"log_directory\" : \"./helper_files/pputida_tutorial\",\n",
    "    \n",
    "    # Run blast?\n",
    "    \"run_bbh_blast\" : True,\n",
    "    # Use standard reference iJL1678b-ME?\n",
    "    \"dev_reference\" : True,\n",
    "    # Include pseudo genes?\n",
    "    \"include_pseudo_genes\" : True,\n",
    "    # Use locus_tag or olg_locus_tag?\n",
    "    \"locus_tag\" : \"locus_tag\"\n",
    "\n",
    "}\n",
    ",indent=2))"
   ]
  },
  {
   "cell_type": "markdown",
   "id": "3d577d1c-09e0-46bb-846e-0f4b13131c42",
   "metadata": {},
   "source": [
    "## 3. Define model ID in __organism.json__\n",
    "----------"
   ]
  },
  {
   "cell_type": "code",
   "execution_count": null,
   "id": "588ea70c-ee7b-4bbb-96da-3fe22b41fb50",
   "metadata": {
    "jupyter": {
     "source_hidden": true
    },
    "tags": []
   },
   "outputs": [],
   "source": [
    "print(json.dumps({\"model_id\" : \"pputida_tutorial\"},indent=2))"
   ]
  },
  {
   "cell_type": "markdown",
   "id": "94f363f7-acfe-4ee1-9ab9-0a213a63ba5d",
   "metadata": {},
   "source": [
    "## 4. Reconstruct with coralME\n",
    "----------"
   ]
  },
  {
   "cell_type": "markdown",
   "id": "ce4370b2-16e6-44af-b97f-9c8aff623045",
   "metadata": {},
   "source": [
    "#### Import packages\n"
   ]
  },
  {
   "cell_type": "code",
   "execution_count": null,
   "id": "345665c4-32c3-4727-a3b5-40f38a3898f4",
   "metadata": {},
   "outputs": [],
   "source": [
    "from coralme.builder.main import MEBuilder"
   ]
  },
  {
   "cell_type": "markdown",
   "id": "47329e86-82ef-475e-a0b2-1c795dd61647",
   "metadata": {},
   "source": [
    "#### Define organism and inputs"
   ]
  },
  {
   "cell_type": "code",
   "execution_count": null,
   "id": "2e0e9e63-c7f1-4a69-8478-7ffe71c6bf07",
   "metadata": {},
   "outputs": [],
   "source": [
    "org = 'pputida_tutorial'\n",
    "organism = './helper_files/{:s}/organism.json'.format(org)\n",
    "inputs = './helper_files/{:s}/input.json'.format(org)"
   ]
  },
  {
   "cell_type": "markdown",
   "id": "4646d05b-be94-4136-bb7f-debf2f3aa95f",
   "metadata": {},
   "source": [
    "#### Create builder"
   ]
  },
  {
   "cell_type": "code",
   "execution_count": null,
   "id": "f04001c0-8b9b-41fa-9a17-55ca6006af41",
   "metadata": {
    "ExecuteTime": {
     "end_time": "2022-12-12T06:30:28.060280Z",
     "start_time": "2022-12-12T06:30:01.706785Z"
    },
    "scrolled": true,
    "tags": []
   },
   "outputs": [],
   "source": [
    "builder = MEBuilder(*[organism, inputs])"
   ]
  },
  {
   "cell_type": "markdown",
   "id": "8a75a27a-92e2-4f56-8ca8-42ca48b03a1a",
   "metadata": {},
   "source": [
    "#### Generate files"
   ]
  },
  {
   "cell_type": "code",
   "execution_count": null,
   "id": "17b488c8-822e-4598-a72e-33367294b3b2",
   "metadata": {
    "scrolled": true,
    "tags": []
   },
   "outputs": [],
   "source": [
    "builder.generate_files(overwrite=True)"
   ]
  },
  {
   "cell_type": "markdown",
   "id": "09f641ec-b47d-4356-8a7d-6e4087b35a7c",
   "metadata": {},
   "source": [
    "#### Build ME-model"
   ]
  },
  {
   "cell_type": "code",
   "execution_count": null,
   "id": "1f347e0a-7f7b-4d09-9c31-acf78befd22a",
   "metadata": {
    "ExecuteTime": {
     "end_time": "2022-12-12T06:28:36.607889Z",
     "start_time": "2022-12-12T06:27:59.542579Z"
    },
    "scrolled": true,
    "tags": []
   },
   "outputs": [],
   "source": [
    "builder.build_me_model(overwrite=False)"
   ]
  },
  {
   "cell_type": "markdown",
   "id": "83ba4f6d-7a1d-49bd-91fe-f688c215d96c",
   "metadata": {},
   "source": [
    "#### Troubleshoot ME-model"
   ]
  },
  {
   "cell_type": "code",
   "execution_count": null,
   "id": "d6d2e94e-08d7-4ba8-ab81-bccb22a5b025",
   "metadata": {},
   "outputs": [],
   "source": [
    "builder.troubleshoot(growth_key_and_value = { builder.me_model.mu : 0.001 })"
   ]
  },
  {
   "cell_type": "markdown",
   "id": "66a9bee9-2ac6-40bd-a4f1-1047cc31aba6",
   "metadata": {},
   "source": [
    "## 5. Curate manually!\n",
    "----------"
   ]
  }
 ],
 "metadata": {
  "kernelspec": {
   "display_name": "coralme",
   "language": "python",
   "name": "coralme"
  },
  "language_info": {
   "codemirror_mode": {
    "name": "ipython",
    "version": 3
   },
   "file_extension": ".py",
   "mimetype": "text/x-python",
   "name": "python",
   "nbconvert_exporter": "python",
   "pygments_lexer": "ipython3",
   "version": "3.7.8"
  }
 },
 "nbformat": 4,
 "nbformat_minor": 5
}
