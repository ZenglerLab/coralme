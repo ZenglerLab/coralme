{
 "cells": [
  {
   "cell_type": "markdown",
   "id": "fb270ec2-29da-4100-9485-39da5cce1663",
   "metadata": {},
   "source": [
    "# Tutorial 3: Loading and inspecting ME-models\n",
    "\n",
    "In this tutorial we will load and inspect the reconstructed _Bacillus subtilis_ ME-model."
   ]
  },
  {
   "cell_type": "markdown",
   "id": "d37fa4bb-3c8f-4a62-923c-6c1747ebb652",
   "metadata": {},
   "source": [
    "## Import libraries"
   ]
  },
  {
   "cell_type": "code",
   "execution_count": 1,
   "id": "d048f35f-6a3b-4642-86cd-49e4c4e4a187",
   "metadata": {
    "ExecuteTime": {
     "end_time": "2022-12-12T06:27:35.182100Z",
     "start_time": "2022-12-12T06:27:35.157355Z"
    }
   },
   "outputs": [],
   "source": [
    "from coralme.builder.main import MEBuilder\n",
    "import coralme"
   ]
  },
  {
   "cell_type": "markdown",
   "id": "051e8ee6-15ba-4017-8fc0-5f54da314cd8",
   "metadata": {},
   "source": [
    "## Load"
   ]
  },
  {
   "cell_type": "markdown",
   "id": "77a83a0a-a0b6-4b74-b0b8-9331a34162d7",
   "metadata": {},
   "source": [
    "Load the ME-model coming out of the Troubleshooter"
   ]
  },
  {
   "cell_type": "code",
   "execution_count": 2,
   "id": "b0d86d92-b978-402c-b16a-439986ea2904",
   "metadata": {
    "ExecuteTime": {
     "end_time": "2022-12-12T06:30:28.060280Z",
     "start_time": "2022-12-12T06:30:01.706785Z"
    }
   },
   "outputs": [
    {
     "name": "stdout",
     "output_type": "stream",
     "text": [
      "Set parameter Username\n",
      "Academic license - for non-commercial use only - expires 2024-08-16\n"
     ]
    },
    {
     "name": "stderr",
     "output_type": "stream",
     "text": [
      "Adding Metabolites into the ME-model...                                    : 100.0%|██████████|  4432/ 4432 [00:00<00:00]\n",
      "Adding ProcessData into the ME-model...                                    : 100.0%|██████████|  4484/ 4484 [00:00<00:00]\n",
      "Adding Reactions into the ME-model...                                      : 100.0%|██████████|  7461/ 7461 [00:16<00:00]\n",
      "Updating ME-model Reactions...                                             : 100.0%|██████████|  6068/ 6068 [00:17<00:00]\n"
     ]
    }
   ],
   "source": [
    "me = coralme.io.json.load_json_me_model(\"MEModel-step3-bsubtilis-TS.json\")"
   ]
  },
  {
   "cell_type": "markdown",
   "id": "66554f57-e2e9-4c76-a0e4-f16f8d151874",
   "metadata": {},
   "source": [
    "## Solve"
   ]
  },
  {
   "cell_type": "code",
   "execution_count": 3,
   "id": "cad55474-5c9a-46ea-9305-79ea2d44df66",
   "metadata": {},
   "outputs": [
    {
     "name": "stdout",
     "output_type": "stream",
     "text": [
      "The MINOS and quad MINOS solvers are a courtesy of Prof Michael A. Saunders. Please cite Ma, D., Yang, L., Fleming, R. et al. Reliable and efficient solution of genome-scale models of Metabolism and macromolecular Expression. Sci Rep 7, 40863 (2017). https://doi.org/10.1038/srep40863\n",
      "\n",
      "Iteration\t Solution to check\tSolver Status\n",
      "---------\t------------------\t-------------\n",
      "        1\t1.4050280687025918\tNot feasible\n",
      "        2\t0.7025140343512959\tNot feasible\n",
      "        3\t0.3512570171756479\tNot feasible\n",
      "        4\t0.1756285085878240\tNot feasible\n",
      "        5\t0.0878142542939120\tOptimal\n",
      "        6\t0.1317213814408680\tNot feasible\n",
      "        7\t0.1097678178673900\tNot feasible\n",
      "        8\t0.0987910360806510\tNot feasible\n",
      "        9\t0.0933026451872815\tNot feasible\n",
      "       10\t0.0905584497405967\tOptimal\n",
      "       11\t0.0919305474639391\tNot feasible\n",
      "       12\t0.0912444986022679\tOptimal\n",
      "       13\t0.0915875230331035\tOptimal\n",
      "       14\t0.0917590352485213\tOptimal\n",
      "       15\t0.0918447913562302\tOptimal\n",
      "       16\t0.0918876694100847\tOptimal\n",
      "       17\t0.0919091084370119\tNot feasible\n",
      "       18\t0.0918983889235483\tOptimal\n",
      "       19\t0.0919037486802801\tOptimal\n",
      "       20\t0.0919064285586460\tOptimal\n",
      "       21\t0.0919077684978289\tOptimal\n",
      "       22\t0.0919084384674204\tOptimal\n"
     ]
    },
    {
     "data": {
      "text/plain": [
       "True"
      ]
     },
     "execution_count": 3,
     "metadata": {},
     "output_type": "execute_result"
    }
   ],
   "source": [
    "me.optimize()"
   ]
  },
  {
   "cell_type": "markdown",
   "id": "b8874ac5-e7a4-473b-80e5-5b3bca962fe5",
   "metadata": {},
   "source": [
    "## Inspecting ME-model properties"
   ]
  },
  {
   "cell_type": "markdown",
   "id": "caca0f28-cbf2-437e-b2ef-9af6bee233ff",
   "metadata": {},
   "source": [
    "### Summary of the ME-model"
   ]
  },
  {
   "cell_type": "code",
   "execution_count": 4,
   "id": "a6c4835c-97d5-4583-8ccd-cec067baa26e",
   "metadata": {},
   "outputs": [
    {
     "data": {
      "text/html": [
       "\n",
       "        <table>\n",
       "            <tr>\n",
       "                <td><strong>Name</strong></td>\n",
       "                <td>coralME</td>\n",
       "            </tr><tr>\n",
       "                <td><strong>Memory address</strong></td>\n",
       "                <td>0x07f733a203df0</td>\n",
       "            </tr><tr>\n",
       "                <td><strong>Number of metabolites</strong></td>\n",
       "                <td>4432</td>\n",
       "            </tr><tr>\n",
       "                <td><strong>Number of reactions</strong></td>\n",
       "                <td>7461</td>\n",
       "            </tr><tr>\n",
       "                <td><strong>Number of groups</strong></td>\n",
       "                <td>0</td>\n",
       "            </tr><tr>\n",
       "                <td><strong>Objective expression</strong></td>\n",
       "                <td>0</td>\n",
       "            </tr><tr>\n",
       "                <td><strong>Compartments</strong></td>\n",
       "                <td>mc, c, e, im, p</td>\n",
       "            </tr>\n",
       "          </table>"
      ],
      "text/plain": [
       "<MEModel coralME at 0x7f733a203df0>"
      ]
     },
     "execution_count": 4,
     "metadata": {},
     "output_type": "execute_result"
    }
   ],
   "source": [
    "me"
   ]
  },
  {
   "cell_type": "code",
   "execution_count": 5,
   "id": "bf36850f-1484-4f61-a501-8d3356fa3f31",
   "metadata": {},
   "outputs": [
    {
     "name": "stdout",
     "output_type": "stream",
     "text": [
      "ME-model has 7461 reactions\n"
     ]
    }
   ],
   "source": [
    "print(\"ME-model has {} reactions\".format(len(me.reactions)))"
   ]
  },
  {
   "cell_type": "code",
   "execution_count": 6,
   "id": "78545e33-afe5-4b86-87b1-6236cbb8d4f0",
   "metadata": {},
   "outputs": [
    {
     "name": "stdout",
     "output_type": "stream",
     "text": [
      "ME-model has 4432 metabolites\n"
     ]
    }
   ],
   "source": [
    "print(\"ME-model has {} metabolites\".format(len(me.metabolites)))"
   ]
  },
  {
   "cell_type": "code",
   "execution_count": 7,
   "id": "b49bbb17-4e2a-4b62-bad7-51a4322557e6",
   "metadata": {},
   "outputs": [
    {
     "name": "stdout",
     "output_type": "stream",
     "text": [
      "ME-model has 1103 genes\n"
     ]
    }
   ],
   "source": [
    "print(\"ME-model has {} genes\".format(len(me.all_genes)))"
   ]
  },
  {
   "cell_type": "markdown",
   "id": "3d86778d-1cee-400e-89d4-9c3503a44288",
   "metadata": {},
   "source": [
    "### Reactions"
   ]
  },
  {
   "cell_type": "markdown",
   "id": "6ec98d84-41ca-4c08-bd6f-3b9815c01795",
   "metadata": {},
   "source": [
    "#### Metabolic reaction"
   ]
  },
  {
   "cell_type": "code",
   "execution_count": 8,
   "id": "4aa94f07-6bef-4df1-884e-ea9463e164e7",
   "metadata": {},
   "outputs": [
    {
     "data": {
      "text/html": [
       "\n",
       "\t\t<table>\n",
       "\t\t\t<tr><td><strong>Reaction identifier</strong></td><td>23CN2P1_REV_BSU07840-MONOMER</td></tr>\n",
       "\t\t\t<tr><td><strong>Name</strong></td><td></td></tr>\n",
       "\t\t\t<tr><td><strong>Memory address</strong></td><td>0x7f71c85dde40</td></tr>\n",
       "\t\t\t<tr><td><strong>Stoichiometry</strong>\n",
       "\t\t\t</td><td>\n",
       "\t\t\t\t<p style='text-align:right'>1.0 3amp_c + [1.23635177537696e-6*mu1] BSU07840-MONOMER + 1.0 h_c --> 1.0 23camp_c + 1.0 h2o_c</p>\n",
       "\t\t\t\t<p style='text-align:right'>1.0 3 AMP C10H12N5O7P + [1.23635177537696e-6*mu1] BSU07840-MONOMER + 1.0 H+ --> 1.0 2',3'-Cyclic AMP + 1.0 H2O H2O</p>\n",
       "\t\t\t</td></tr>\n",
       "\t\t\t<tr><td><strong>GPR</strong></td><td></td></tr>\n",
       "\t\t\t<tr><td><strong>Lower bound</strong></td><td>0</td></tr>\n",
       "\t\t\t<tr><td><strong>Upper bound</strong></td><td>999999.0</td></tr>\n",
       "\t\t\t<tr><td><strong>Reaction type</strong></td><td>coralme.core.reaction.MetabolicReaction</td></tr>\n",
       "\t\t\t<tr><td><strong>Flux</strong></td><td>0 ($\\mu$= 0.0919084)</td></tr>\n",
       "\t\t\t<tr><td><strong>Reduced cost</strong></td><td>-4.6591e-07 ($\\mu$= 0.0919084)</td></tr>\n",
       "\t\t\t<tr><td><strong>Bound violation</strong></td><td>False</td></tr>\n",
       "\t\t</table>\n",
       "\t\t"
      ],
      "text/plain": [
       "<MetabolicReaction 23CN2P1_REV_BSU07840-MONOMER at 0x7f71c85dde40>"
      ]
     },
     "execution_count": 8,
     "metadata": {},
     "output_type": "execute_result"
    }
   ],
   "source": [
    "r = next(i for i in me.reactions if isinstance(i,coralme.core.reaction.MetabolicReaction))\n",
    "r"
   ]
  },
  {
   "cell_type": "markdown",
   "id": "4317c596-0f55-438c-b0da-6a98b6fff590",
   "metadata": {},
   "source": [
    "#### Translation reaction"
   ]
  },
  {
   "cell_type": "code",
   "execution_count": 9,
   "id": "795539fb-e1b3-489b-8ea2-3e5efd200435",
   "metadata": {},
   "outputs": [
    {
     "data": {
      "text/html": [
       "\n",
       "\t\t<table>\n",
       "\t\t\t<tr><td><strong>Reaction identifier</strong></td><td>translation_BSU00090</td></tr>\n",
       "\t\t\t<tr><td><strong>Name</strong></td><td></td></tr>\n",
       "\t\t\t<tr><td><strong>Memory address</strong></td><td>0x7f71c98f7cd0</td></tr>\n",
       "\t\t\t<tr><td><strong>Stoichiometry</strong>\n",
       "\t\t\t</td><td>\n",
       "\t\t\t\t<p style='text-align:right'>1.0 10fthf_c + [0.00208119658119658*mu1] BSU01120-MONOMER + [4.27350427350427e-6*mu1] BSU01390-MONOMER + [4.27350427350427e-6*mu1] BSU15720-MONOMER_mod_fe2(1) + [4.27350427350427e-6*mu1] BSU15730-MONOMER_mod_mg2(1)_mod_k(1) + [0.00208119658119658*mu1] BSU16500-MONOMER + [4.27350427350427e-6*mu1] BSU16520-MONOMER + [8.54700854700855e-6*mu1] BSU16630-MONOMER + [4.27350427350427e-6*mu1] BSU25460-MONOMER_mod_zn2(4) + [4.27350427350427e-6*mu1] BSU25470-MONOMER + [4.27350427350427e-6*mu1] BSU25480-MONOMER + [4.27350427350427e-6*mu1] BSU28870-MONOMER + [0.000498399634202103*mu1 + 0.000195123456790123 + 0.00598079561042524*(mu1 + 0.3915)/mu1] RNA_BSU00090 + [2.55589556001079e-8*mu1 + 1.00063311174422e-8] RNA_degradosome + 36 ala__L_c + 23 arg__L_c + 14 asn__L_c + 27 asp__L_c + [488.0 + 2.19196159122085*(mu1 + 0.3915)/mu1] atp_c + 3 cys__L_c + [4.27350427350427e-6*mu1] generic_RF + [0.00208119658119658*mu1] generic_Tuf + 29.0 generic_tRNA_AAA_lys__L_c + 8.0 generic_tRNA_AAC_asn__L_c + 8.0...</p>\n",
       "\t\t\t\t<p style='text-align:right'>1.0 10-Formyltetrahydrofolate + [0.00208119658119658*mu1] BSU01120-MONOMER + [4.27350427350427e-6*mu1] BSU01390-MONOMER + [4.27350427350427e-6*mu1] BSU15720-MONOMER_mod_fe2(1) + [4.27350427350427e-6*mu1] BSU15730-MONOMER_mod_mg2(1)_mod_k(1) + [0.00208119658119658*mu1] BSU16500-MONOMER + [4.27350427350427e-6*mu1] BSU16520-MONOMER + [8.54700854700855e-6*mu1] BSU16630-MONOMER + [4.27350427350427e-6*mu1] BSU25460-MONOMER_mod_zn2(4) + [4.27350427350427e-6*mu1] BSU25470-MONOMER + [4.27350427350427e-6*mu1] BSU25480-MONOMER + [4.27350427350427e-6*mu1] BSU28870-MONOMER + [0.000498399634202103*mu1 + 0.000195123456790123 + 0.00598079561042524*(mu1 + 0.3915)/mu1] RNA_BSU00090 + [2.55589556001079e-8*mu1 + 1.00063311174422e-8] RNA_degradosome + 36 L-Alanine + 23 L-Arginine + 14 L-Asparagine + 27 L-Aspartate + [488.0 + 2.19196159122085*(mu1 + 0.3915)/mu1] ATP C10H12N5O13P3 + 3 L-Cysteine + [4.27350427350427e-6*mu1] generic_RF + [0.00208119658119658*mu1] generic_Tuf + 29.0 generic_tRNA_AAA_lys__L_c...</p>\n",
       "\t\t\t</td></tr>\n",
       "\t\t\t<tr><td><strong>GPR</strong></td><td></td></tr>\n",
       "\t\t\t<tr><td><strong>Lower bound</strong></td><td>0.0</td></tr>\n",
       "\t\t\t<tr><td><strong>Upper bound</strong></td><td>1000.0</td></tr>\n",
       "\t\t\t<tr><td><strong>Reaction type</strong></td><td>coralme.core.reaction.TranslationReaction</td></tr>\n",
       "\t\t\t<tr><td><strong>Flux</strong></td><td>3.92632e-09 ($\\mu$= 0.0919084)</td></tr>\n",
       "\t\t\t<tr><td><strong>Reduced cost</strong></td><td>-1.85222e-32 ($\\mu$= 0.0919084)</td></tr>\n",
       "\t\t\t<tr><td><strong>Bound violation</strong></td><td>False</td></tr>\n",
       "\t\t</table>\n",
       "\t\t"
      ],
      "text/plain": [
       "<TranslationReaction translation_BSU00090 at 0x7f71c98f7cd0>"
      ]
     },
     "execution_count": 9,
     "metadata": {},
     "output_type": "execute_result"
    }
   ],
   "source": [
    "r = next(i for i in me.reactions if isinstance(i,coralme.core.reaction.TranslationReaction))\n",
    "r"
   ]
  },
  {
   "cell_type": "markdown",
   "id": "41b5c71b-c4b4-4bf8-a411-d35c7edf14ed",
   "metadata": {},
   "source": [
    "#### Transcription reaction"
   ]
  },
  {
   "cell_type": "code",
   "execution_count": 10,
   "id": "18f8b2c0-1880-4b74-8330-73d82834888b",
   "metadata": {},
   "outputs": [
    {
     "data": {
      "text/html": [
       "\n",
       "\t\t<table>\n",
       "\t\t\t<tr><td><strong>Reaction identifier</strong></td><td>transcription_TU8J2-1223_from_BSU25200-MONOMER</td></tr>\n",
       "\t\t\t<tr><td><strong>Name</strong></td><td></td></tr>\n",
       "\t\t\t<tr><td><strong>Memory address</strong></td><td>0x7f71ca852d10</td></tr>\n",
       "\t\t\t<tr><td><strong>Stoichiometry</strong>\n",
       "\t\t\t</td><td>\n",
       "\t\t\t\t<p style='text-align:right'>[4.27350427350427e-6*mu1] BSU00550-MONOMER_mod_mg2(1) + [4.27350427350427e-6*mu1] BSU01010-MONOMER + [4.27350427350427e-6*mu1] BSU16600-MONOMER + [4.27350427350427e-6*mu1] BSU27320-MONOMER + [4.27350427350427e-6*mu1] BSU37080-MONOMER_mod_mg2(3) + [0.00736902347633249*mu1 + 0.00288497269098417] RNAP_BSU25200MONOMER + 369.0 atp_c + 432 ctp_c + 330 gtp_c + 3.0 h2o_c + 414 utp_c --> 1.0 RNA_BSU10270 + 3.0 adp_c + 3.0 h_c + 491.443913982 mRNA_biomass + 3.0 pi_c + 1542 ppi_c</p>\n",
       "\t\t\t\t<p style='text-align:right'>[4.27350427350427e-6*mu1] BSU00550-MONOMER_mod_mg2(1) + [4.27350427350427e-6*mu1] BSU01010-MONOMER + [4.27350427350427e-6*mu1] BSU16600-MONOMER + [4.27350427350427e-6*mu1] BSU27320-MONOMER + [4.27350427350427e-6*mu1] BSU37080-MONOMER_mod_mg2(3) + [0.00736902347633249*mu1 + 0.00288497269098417] RNAP_BSU25200MONOMER + 369.0 ATP C10H12N5O13P3 + 432 CTP C9H12N3O14P3 + 330 GTP C10H12N5O14P3 + 3.0 H2O H2O + 414 UTP C9H11N2O15P3 --> 1.0 RNA_BSU10270 + 3.0 ADP C10H12N5O10P2 + 3.0 H+ + 491.443913982 mRNA_biomass + 3.0 Phosphate + 1542 Diphosphate</p>\n",
       "\t\t\t</td></tr>\n",
       "\t\t\t<tr><td><strong>GPR</strong></td><td></td></tr>\n",
       "\t\t\t<tr><td><strong>Lower bound</strong></td><td>0.0</td></tr>\n",
       "\t\t\t<tr><td><strong>Upper bound</strong></td><td>1000.0</td></tr>\n",
       "\t\t\t<tr><td><strong>Reaction type</strong></td><td>coralme.core.reaction.TranscriptionReaction</td></tr>\n",
       "\t\t\t<tr><td><strong>Flux</strong></td><td>0 ($\\mu$= 0.0919084)</td></tr>\n",
       "\t\t\t<tr><td><strong>Reduced cost</strong></td><td>2.139e-32 ($\\mu$= 0.0919084)</td></tr>\n",
       "\t\t\t<tr><td><strong>Bound violation</strong></td><td>False</td></tr>\n",
       "\t\t</table>\n",
       "\t\t"
      ],
      "text/plain": [
       "<TranscriptionReaction transcription_TU8J2-1223_from_BSU25200-MONOMER at 0x7f71ca852d10>"
      ]
     },
     "execution_count": 10,
     "metadata": {},
     "output_type": "execute_result"
    }
   ],
   "source": [
    "r = next(i for i in me.reactions if isinstance(i,coralme.core.reaction.TranscriptionReaction))\n",
    "r"
   ]
  },
  {
   "cell_type": "markdown",
   "id": "20aa4477-0812-4847-a821-298f192e4422",
   "metadata": {},
   "source": [
    "#### Formation reaction"
   ]
  },
  {
   "cell_type": "code",
   "execution_count": 11,
   "id": "f6ff8a2f-db4f-42de-9aa7-81ccec048f32",
   "metadata": {},
   "outputs": [
    {
     "data": {
      "text/html": [
       "\n",
       "\t\t<table>\n",
       "\t\t\t<tr><td><strong>Reaction identifier</strong></td><td>formation_BSU00090-MONOMER</td></tr>\n",
       "\t\t\t<tr><td><strong>Name</strong></td><td></td></tr>\n",
       "\t\t\t<tr><td><strong>Memory address</strong></td><td>0x7f71c84544c0</td></tr>\n",
       "\t\t\t<tr><td><strong>Stoichiometry</strong>\n",
       "\t\t\t</td><td>\n",
       "\t\t\t\t<p style='text-align:right'>4.0 protein_BSU00090 --> 1.0 BSU00090-MONOMER</p>\n",
       "\t\t\t\t<p style='text-align:right'>4.0 protein_BSU00090 --> 1.0 BSU00090-MONOMER</p>\n",
       "\t\t\t</td></tr>\n",
       "\t\t\t<tr><td><strong>GPR</strong></td><td></td></tr>\n",
       "\t\t\t<tr><td><strong>Lower bound</strong></td><td>0.0</td></tr>\n",
       "\t\t\t<tr><td><strong>Upper bound</strong></td><td>1000.0</td></tr>\n",
       "\t\t\t<tr><td><strong>Reaction type</strong></td><td>coralme.core.reaction.ComplexFormation</td></tr>\n",
       "\t\t\t<tr><td><strong>Flux</strong></td><td>9.8158e-10 ($\\mu$= 0.0919084)</td></tr>\n",
       "\t\t\t<tr><td><strong>Reduced cost</strong></td><td>0 ($\\mu$= 0.0919084)</td></tr>\n",
       "\t\t\t<tr><td><strong>Bound violation</strong></td><td>False</td></tr>\n",
       "\t\t</table>\n",
       "\t\t"
      ],
      "text/plain": [
       "<ComplexFormation formation_BSU00090-MONOMER at 0x7f71c84544c0>"
      ]
     },
     "execution_count": 11,
     "metadata": {},
     "output_type": "execute_result"
    }
   ],
   "source": [
    "r = next(i for i in me.reactions if isinstance(i,coralme.core.reaction.ComplexFormation))\n",
    "r"
   ]
  },
  {
   "cell_type": "markdown",
   "id": "76375a81-5b21-4cb5-8ce7-b0f71f4d1633",
   "metadata": {},
   "source": [
    "#### tRNA Charging reaction"
   ]
  },
  {
   "cell_type": "code",
   "execution_count": 12,
   "id": "51ed8187-c1e9-4f74-a0f6-b8b1c18c712e",
   "metadata": {},
   "outputs": [
    {
     "data": {
      "text/html": [
       "\n",
       "\t\t<table>\n",
       "\t\t\t<tr><td><strong>Reaction identifier</strong></td><td>charging_tRNA_BSU_tRNA_5_AUU</td></tr>\n",
       "\t\t\t<tr><td><strong>Name</strong></td><td></td></tr>\n",
       "\t\t\t<tr><td><strong>Memory address</strong></td><td>0x7f71c85fe7a0</td></tr>\n",
       "\t\t\t<tr><td><strong>Stoichiometry</strong>\n",
       "\t\t\t</td><td>\n",
       "\t\t\t\t<p style='text-align:right'>[4.27350427350427e-6*mu1*(0.000116266666666667*mu1 + 1.0000455184)] BSU15430-MONOMER + [0.000116266666666667*mu1 + 4.55184e-5] RNA_BSU_tRNA_5 + [0.000116266666666667*mu1 + 4.55184e-5] ile__L_c --> 1.0 generic_tRNA_AUU_ile__L_c</p>\n",
       "\t\t\t\t<p style='text-align:right'>[4.27350427350427e-6*mu1*(0.000116266666666667*mu1 + 1.0000455184)] BSU15430-MONOMER + [0.000116266666666667*mu1 + 4.55184e-5] RNA_BSU_tRNA_5 + [0.000116266666666667*mu1 + 4.55184e-5] L-Isoleucine --> 1.0 generic_tRNA_AUU_ile__L_c</p>\n",
       "\t\t\t</td></tr>\n",
       "\t\t\t<tr><td><strong>GPR</strong></td><td></td></tr>\n",
       "\t\t\t<tr><td><strong>Lower bound</strong></td><td>0.0</td></tr>\n",
       "\t\t\t<tr><td><strong>Upper bound</strong></td><td>1000.0</td></tr>\n",
       "\t\t\t<tr><td><strong>Reaction type</strong></td><td>coralme.core.reaction.tRNAChargingReaction</td></tr>\n",
       "\t\t\t<tr><td><strong>Flux</strong></td><td>0.0288233 ($\\mu$= 0.0919084)</td></tr>\n",
       "\t\t\t<tr><td><strong>Reduced cost</strong></td><td>-5.48188e-36 ($\\mu$= 0.0919084)</td></tr>\n",
       "\t\t\t<tr><td><strong>Bound violation</strong></td><td>False</td></tr>\n",
       "\t\t</table>\n",
       "\t\t"
      ],
      "text/plain": [
       "<tRNAChargingReaction charging_tRNA_BSU_tRNA_5_AUU at 0x7f71c85fe7a0>"
      ]
     },
     "execution_count": 12,
     "metadata": {},
     "output_type": "execute_result"
    }
   ],
   "source": [
    "r = next(i for i in me.reactions if isinstance(i,coralme.core.reaction.tRNAChargingReaction))\n",
    "r"
   ]
  },
  {
   "cell_type": "markdown",
   "id": "e679e38e-a30e-4ba7-b52e-055b98f5bf1a",
   "metadata": {},
   "source": [
    "#### Post-translational modification reaction"
   ]
  },
  {
   "cell_type": "code",
   "execution_count": 13,
   "id": "6e50059c-3399-41cd-b262-42107adeea12",
   "metadata": {},
   "outputs": [
    {
     "data": {
      "text/html": [
       "\n",
       "\t\t<table>\n",
       "\t\t\t<tr><td><strong>Reaction identifier</strong></td><td>translocation_BSU07840_Cell_Wall</td></tr>\n",
       "\t\t\t<tr><td><strong>Name</strong></td><td></td></tr>\n",
       "\t\t\t<tr><td><strong>Memory address</strong></td><td>0x7f71c3b064a0</td></tr>\n",
       "\t\t\t<tr><td><strong>Stoichiometry</strong>\n",
       "\t\t\t</td><td>\n",
       "\t\t\t\t<p style='text-align:right'>[0.101527777777778*mu1] BSU35300-MONOMER + 58.480000000000004 atp_c + 58.480000000000004 h2o_c + 1.0 protein_BSU07840 --> 58.480000000000004 adp_c + 58.480000000000004 h_c + 58.480000000000004 pi_c + 1.0 protein_BSU07840_Cell_Wall</p>\n",
       "\t\t\t\t<p style='text-align:right'>[0.101527777777778*mu1] BSU35300-MONOMER + 58.480000000000004 ATP C10H12N5O13P3 + 58.480000000000004 H2O H2O + 1.0 protein_BSU07840 --> 58.480000000000004 ADP C10H12N5O10P2 + 58.480000000000004 H+ + 58.480000000000004 Phosphate + 1.0 protein_BSU07840_Cell_Wall</p>\n",
       "\t\t\t</td></tr>\n",
       "\t\t\t<tr><td><strong>GPR</strong></td><td></td></tr>\n",
       "\t\t\t<tr><td><strong>Lower bound</strong></td><td>0.0</td></tr>\n",
       "\t\t\t<tr><td><strong>Upper bound</strong></td><td>1000.0</td></tr>\n",
       "\t\t\t<tr><td><strong>Reaction type</strong></td><td>coralme.core.reaction.PostTranslationReaction</td></tr>\n",
       "\t\t\t<tr><td><strong>Flux</strong></td><td>9.34868e-12 ($\\mu$= 0.0919084)</td></tr>\n",
       "\t\t\t<tr><td><strong>Reduced cost</strong></td><td>-1.14226e-33 ($\\mu$= 0.0919084)</td></tr>\n",
       "\t\t\t<tr><td><strong>Bound violation</strong></td><td>False</td></tr>\n",
       "\t\t</table>\n",
       "\t\t"
      ],
      "text/plain": [
       "<PostTranslationReaction translocation_BSU07840_Cell_Wall at 0x7f71c3b064a0>"
      ]
     },
     "execution_count": 13,
     "metadata": {},
     "output_type": "execute_result"
    }
   ],
   "source": [
    "r = next(i for i in me.reactions if isinstance(i,coralme.core.reaction.PostTranslationReaction))\n",
    "r"
   ]
  },
  {
   "cell_type": "markdown",
   "id": "81bff06d-8661-4cac-96a6-abe5c21a606e",
   "metadata": {},
   "source": [
    "### Mapped gene functions"
   ]
  },
  {
   "cell_type": "code",
   "execution_count": 14,
   "id": "4d80e172-b737-42bd-b513-0e7ec54e791f",
   "metadata": {
    "tags": []
   },
   "outputs": [
    {
     "data": {
      "text/html": [
       "<div>\n",
       "<style scoped>\n",
       "    .dataframe tbody tr th:only-of-type {\n",
       "        vertical-align: middle;\n",
       "    }\n",
       "\n",
       "    .dataframe tbody tr th {\n",
       "        vertical-align: top;\n",
       "    }\n",
       "\n",
       "    .dataframe thead th {\n",
       "        text-align: right;\n",
       "    }\n",
       "</style>\n",
       "<table border=\"1\" class=\"dataframe\">\n",
       "  <thead>\n",
       "    <tr style=\"text-align: right;\">\n",
       "      <th></th>\n",
       "      <th>count</th>\n",
       "    </tr>\n",
       "  </thead>\n",
       "  <tbody>\n",
       "    <tr>\n",
       "      <th>Metabolic:S_Amino_acids_and_related_molecules</th>\n",
       "      <td>155</td>\n",
       "    </tr>\n",
       "    <tr>\n",
       "      <th>Metabolic:S_Carbohydrates_and_related_molecules</th>\n",
       "      <td>156</td>\n",
       "    </tr>\n",
       "    <tr>\n",
       "      <th>Metabolic:S_Cell_wall</th>\n",
       "      <td>40</td>\n",
       "    </tr>\n",
       "    <tr>\n",
       "      <th>Metabolic:S_Coenzymes_and_prosthetic_groups</th>\n",
       "      <td>77</td>\n",
       "    </tr>\n",
       "    <tr>\n",
       "      <th>Metabolic:S_Lipids</th>\n",
       "      <td>55</td>\n",
       "    </tr>\n",
       "    <tr>\n",
       "      <th>Metabolic:S_Membrane_bioenergetics</th>\n",
       "      <td>47</td>\n",
       "    </tr>\n",
       "    <tr>\n",
       "      <th>Metabolic:S_Nucleotides_and_nucleic_acids</th>\n",
       "      <td>69</td>\n",
       "    </tr>\n",
       "    <tr>\n",
       "      <th>Metabolic:S_Other_function</th>\n",
       "      <td>15</td>\n",
       "    </tr>\n",
       "    <tr>\n",
       "      <th>Metabolic:S_Phosphate_and_sulfur</th>\n",
       "      <td>7</td>\n",
       "    </tr>\n",
       "    <tr>\n",
       "      <th>Metabolic:S_Transport</th>\n",
       "      <td>232</td>\n",
       "    </tr>\n",
       "    <tr>\n",
       "      <th>Post-translation</th>\n",
       "      <td>2</td>\n",
       "    </tr>\n",
       "    <tr>\n",
       "      <th>Transcription</th>\n",
       "      <td>23</td>\n",
       "    </tr>\n",
       "    <tr>\n",
       "      <th>Translation</th>\n",
       "      <td>222</td>\n",
       "    </tr>\n",
       "    <tr>\n",
       "      <th>tRNA-Charging</th>\n",
       "      <td>107</td>\n",
       "    </tr>\n",
       "  </tbody>\n",
       "</table>\n",
       "</div>"
      ],
      "text/plain": [
       "                                                 count\n",
       "Metabolic:S_Amino_acids_and_related_molecules      155\n",
       "Metabolic:S_Carbohydrates_and_related_molecules    156\n",
       "Metabolic:S_Cell_wall                               40\n",
       "Metabolic:S_Coenzymes_and_prosthetic_groups         77\n",
       "Metabolic:S_Lipids                                  55\n",
       "Metabolic:S_Membrane_bioenergetics                  47\n",
       "Metabolic:S_Nucleotides_and_nucleic_acids           69\n",
       "Metabolic:S_Other_function                          15\n",
       "Metabolic:S_Phosphate_and_sulfur                     7\n",
       "Metabolic:S_Transport                              232\n",
       "Post-translation                                     2\n",
       "Transcription                                       23\n",
       "Translation                                        222\n",
       "tRNA-Charging                                      107"
      ]
     },
     "execution_count": 14,
     "metadata": {},
     "output_type": "execute_result"
    }
   ],
   "source": [
    "from collections import defaultdict\n",
    "import pandas\n",
    "d = defaultdict(int)\n",
    "for g in me.all_genes:\n",
    "    for f in g.functions:\n",
    "        d[f] += 1\n",
    "pandas.DataFrame.from_dict({\"count\":d})"
   ]
  },
  {
   "cell_type": "markdown",
   "id": "65a23350-93b7-4906-8d37-ca9df6bb4789",
   "metadata": {},
   "source": [
    "#### Inspecting functions of a gene"
   ]
  },
  {
   "cell_type": "code",
   "execution_count": 15,
   "id": "a00a0fc0-43fe-4bb9-bf82-cfa4f3fb37c6",
   "metadata": {},
   "outputs": [
    {
     "data": {
      "text/plain": [
       "{'Transcription'}"
      ]
     },
     "execution_count": 15,
     "metadata": {},
     "output_type": "execute_result"
    }
   ],
   "source": [
    "g = me.all_genes.get_by_id(\"RNA_BSU37160\")\n",
    "g.functions"
   ]
  },
  {
   "cell_type": "markdown",
   "id": "d9bb3773-92ef-4246-955e-e115df91fe8a",
   "metadata": {},
   "source": [
    "### Complexes formed by a gene"
   ]
  },
  {
   "cell_type": "code",
   "execution_count": 16,
   "id": "f46a78f0-dec4-4962-8b58-b0366beeca66",
   "metadata": {},
   "outputs": [
    {
     "data": {
      "text/plain": [
       "{<Complex CPLX8J2-30_mod_zn2(1)_mod_mg2(2) at 0x7f71caa3f490>,\n",
       " <RNAP RNAP_BSU25200MONOMER at 0x7f71caa3fa60>}"
      ]
     },
     "execution_count": 16,
     "metadata": {},
     "output_type": "execute_result"
    }
   ],
   "source": [
    "g = me.all_genes.get_by_id(\"RNA_BSU37160\")\n",
    "g.complexes"
   ]
  },
  {
   "cell_type": "markdown",
   "id": "42a9d48f-28b2-4f2d-8bce-be2c29bf8a5e",
   "metadata": {},
   "source": [
    "## Inspecting fluxes"
   ]
  },
  {
   "cell_type": "markdown",
   "id": "d977c276-1711-41fc-87fd-3862d0cb8989",
   "metadata": {},
   "source": [
    "### Predicted fluxes"
   ]
  },
  {
   "cell_type": "code",
   "execution_count": 17,
   "id": "6d1ab603-99bb-4711-aa42-7f6c4aebea59",
   "metadata": {},
   "outputs": [
    {
     "data": {
      "text/html": [
       "<div>\n",
       "<style scoped>\n",
       "    .dataframe tbody tr th:only-of-type {\n",
       "        vertical-align: middle;\n",
       "    }\n",
       "\n",
       "    .dataframe tbody tr th {\n",
       "        vertical-align: top;\n",
       "    }\n",
       "\n",
       "    .dataframe thead th {\n",
       "        text-align: right;\n",
       "    }\n",
       "</style>\n",
       "<table border=\"1\" class=\"dataframe\">\n",
       "  <thead>\n",
       "    <tr style=\"text-align: right;\">\n",
       "      <th></th>\n",
       "      <th>fluxes</th>\n",
       "      <th>reduced_costs</th>\n",
       "    </tr>\n",
       "  </thead>\n",
       "  <tbody>\n",
       "    <tr>\n",
       "      <th>biomass_dilution</th>\n",
       "      <td>9.190844e-02</td>\n",
       "      <td>-5.783041e-01</td>\n",
       "    </tr>\n",
       "    <tr>\n",
       "      <th>BSU00360-MONOMER_to_generic_16Sm4Cm1402</th>\n",
       "      <td>1.900832e-12</td>\n",
       "      <td>1.281207e-34</td>\n",
       "    </tr>\n",
       "    <tr>\n",
       "      <th>BSU15140-MONOMER_to_generic_16Sm4Cm1402</th>\n",
       "      <td>0.000000e+00</td>\n",
       "      <td>-1.071094e+01</td>\n",
       "    </tr>\n",
       "    <tr>\n",
       "      <th>RNA_BSU_rRNA_1_to_generic_16s_rRNAs</th>\n",
       "      <td>2.590240e-06</td>\n",
       "      <td>-1.904183e-32</td>\n",
       "    </tr>\n",
       "    <tr>\n",
       "      <th>RNA_BSU_rRNA_16_to_generic_16s_rRNAs</th>\n",
       "      <td>0.000000e+00</td>\n",
       "      <td>-6.431574e-02</td>\n",
       "    </tr>\n",
       "    <tr>\n",
       "      <th>...</th>\n",
       "      <td>...</td>\n",
       "      <td>...</td>\n",
       "    </tr>\n",
       "    <tr>\n",
       "      <th>TS_pydx5p_c</th>\n",
       "      <td>-4.360925e-07</td>\n",
       "      <td>0.000000e+00</td>\n",
       "    </tr>\n",
       "    <tr>\n",
       "      <th>TS_zn2_c</th>\n",
       "      <td>-2.351045e-07</td>\n",
       "      <td>0.000000e+00</td>\n",
       "    </tr>\n",
       "    <tr>\n",
       "      <th>TS_fe2_c</th>\n",
       "      <td>-1.273605e-09</td>\n",
       "      <td>0.000000e+00</td>\n",
       "    </tr>\n",
       "    <tr>\n",
       "      <th>TS_thmpp_c</th>\n",
       "      <td>-2.767482e-07</td>\n",
       "      <td>0.000000e+00</td>\n",
       "    </tr>\n",
       "    <tr>\n",
       "      <th>TS_4fe4s_c</th>\n",
       "      <td>-2.335281e-07</td>\n",
       "      <td>0.000000e+00</td>\n",
       "    </tr>\n",
       "  </tbody>\n",
       "</table>\n",
       "<p>7461 rows × 2 columns</p>\n",
       "</div>"
      ],
      "text/plain": [
       "                                               fluxes  reduced_costs\n",
       "biomass_dilution                         9.190844e-02  -5.783041e-01\n",
       "BSU00360-MONOMER_to_generic_16Sm4Cm1402  1.900832e-12   1.281207e-34\n",
       "BSU15140-MONOMER_to_generic_16Sm4Cm1402  0.000000e+00  -1.071094e+01\n",
       "RNA_BSU_rRNA_1_to_generic_16s_rRNAs      2.590240e-06  -1.904183e-32\n",
       "RNA_BSU_rRNA_16_to_generic_16s_rRNAs     0.000000e+00  -6.431574e-02\n",
       "...                                               ...            ...\n",
       "TS_pydx5p_c                             -4.360925e-07   0.000000e+00\n",
       "TS_zn2_c                                -2.351045e-07   0.000000e+00\n",
       "TS_fe2_c                                -1.273605e-09   0.000000e+00\n",
       "TS_thmpp_c                              -2.767482e-07   0.000000e+00\n",
       "TS_4fe4s_c                              -2.335281e-07   0.000000e+00\n",
       "\n",
       "[7461 rows x 2 columns]"
      ]
     },
     "execution_count": 17,
     "metadata": {},
     "output_type": "execute_result"
    }
   ],
   "source": [
    "fluxes = me.solution.to_frame()\n",
    "fluxes"
   ]
  },
  {
   "cell_type": "markdown",
   "id": "495c1b76-30fc-4bca-bb63-77d343e3defc",
   "metadata": {},
   "source": [
    "### Biomass production"
   ]
  },
  {
   "cell_type": "code",
   "execution_count": 18,
   "id": "5984f8fb-a193-4aff-b6d1-5a9c5d85a5d0",
   "metadata": {},
   "outputs": [
    {
     "data": {
      "text/html": [
       "<div>\n",
       "<style scoped>\n",
       "    .dataframe tbody tr th:only-of-type {\n",
       "        vertical-align: middle;\n",
       "    }\n",
       "\n",
       "    .dataframe tbody tr th {\n",
       "        vertical-align: top;\n",
       "    }\n",
       "\n",
       "    .dataframe thead th {\n",
       "        text-align: right;\n",
       "    }\n",
       "</style>\n",
       "<table border=\"1\" class=\"dataframe\">\n",
       "  <thead>\n",
       "    <tr style=\"text-align: right;\">\n",
       "      <th></th>\n",
       "      <th>fluxes</th>\n",
       "      <th>reduced_costs</th>\n",
       "    </tr>\n",
       "  </thead>\n",
       "  <tbody>\n",
       "    <tr>\n",
       "      <th>biomass_dilution</th>\n",
       "      <td>0.091908</td>\n",
       "      <td>-5.783041e-01</td>\n",
       "    </tr>\n",
       "    <tr>\n",
       "      <th>protein_biomass_to_biomass</th>\n",
       "      <td>0.050029</td>\n",
       "      <td>-1.162165e-34</td>\n",
       "    </tr>\n",
       "    <tr>\n",
       "      <th>mRNA_biomass_to_biomass</th>\n",
       "      <td>0.000161</td>\n",
       "      <td>0.000000e+00</td>\n",
       "    </tr>\n",
       "    <tr>\n",
       "      <th>tRNA_biomass_to_biomass</th>\n",
       "      <td>0.000975</td>\n",
       "      <td>-6.057787e-35</td>\n",
       "    </tr>\n",
       "    <tr>\n",
       "      <th>rRNA_biomass_to_biomass</th>\n",
       "      <td>0.007090</td>\n",
       "      <td>0.000000e+00</td>\n",
       "    </tr>\n",
       "    <tr>\n",
       "      <th>ncRNA_biomass_to_biomass</th>\n",
       "      <td>0.000000</td>\n",
       "      <td>0.000000e+00</td>\n",
       "    </tr>\n",
       "    <tr>\n",
       "      <th>tmRNA_biomass_to_biomass</th>\n",
       "      <td>0.000000</td>\n",
       "      <td>0.000000e+00</td>\n",
       "    </tr>\n",
       "    <tr>\n",
       "      <th>DNA_biomass_to_biomass</th>\n",
       "      <td>0.005449</td>\n",
       "      <td>0.000000e+00</td>\n",
       "    </tr>\n",
       "    <tr>\n",
       "      <th>lipid_biomass_to_biomass</th>\n",
       "      <td>0.000000</td>\n",
       "      <td>0.000000e+00</td>\n",
       "    </tr>\n",
       "    <tr>\n",
       "      <th>constituent_biomass_to_biomass</th>\n",
       "      <td>0.000000</td>\n",
       "      <td>0.000000e+00</td>\n",
       "    </tr>\n",
       "    <tr>\n",
       "      <th>prosthetic_group_biomass_to_biomass</th>\n",
       "      <td>0.000063</td>\n",
       "      <td>0.000000e+00</td>\n",
       "    </tr>\n",
       "    <tr>\n",
       "      <th>peptidoglycan_biomass_to_biomass</th>\n",
       "      <td>0.000000</td>\n",
       "      <td>0.000000e+00</td>\n",
       "    </tr>\n",
       "    <tr>\n",
       "      <th>biomass_constituent_demand</th>\n",
       "      <td>0.091908</td>\n",
       "      <td>0.000000e+00</td>\n",
       "    </tr>\n",
       "  </tbody>\n",
       "</table>\n",
       "</div>"
      ],
      "text/plain": [
       "                                       fluxes  reduced_costs\n",
       "biomass_dilution                     0.091908  -5.783041e-01\n",
       "protein_biomass_to_biomass           0.050029  -1.162165e-34\n",
       "mRNA_biomass_to_biomass              0.000161   0.000000e+00\n",
       "tRNA_biomass_to_biomass              0.000975  -6.057787e-35\n",
       "rRNA_biomass_to_biomass              0.007090   0.000000e+00\n",
       "ncRNA_biomass_to_biomass             0.000000   0.000000e+00\n",
       "tmRNA_biomass_to_biomass             0.000000   0.000000e+00\n",
       "DNA_biomass_to_biomass               0.005449   0.000000e+00\n",
       "lipid_biomass_to_biomass             0.000000   0.000000e+00\n",
       "constituent_biomass_to_biomass       0.000000   0.000000e+00\n",
       "prosthetic_group_biomass_to_biomass  0.000063   0.000000e+00\n",
       "peptidoglycan_biomass_to_biomass     0.000000   0.000000e+00\n",
       "biomass_constituent_demand           0.091908   0.000000e+00"
      ]
     },
     "execution_count": 18,
     "metadata": {},
     "output_type": "execute_result"
    }
   ],
   "source": [
    "fluxes[fluxes.index.str.contains(\"biomass\")]"
   ]
  },
  {
   "cell_type": "markdown",
   "id": "dd37655b-6303-4354-b448-0f12ca7d7cae",
   "metadata": {},
   "source": [
    "### Transcription rates"
   ]
  },
  {
   "cell_type": "code",
   "execution_count": 19,
   "id": "5630678c-e894-4bbc-b9a3-e71fc1bff8ce",
   "metadata": {},
   "outputs": [
    {
     "data": {
      "text/html": [
       "<div>\n",
       "<style scoped>\n",
       "    .dataframe tbody tr th:only-of-type {\n",
       "        vertical-align: middle;\n",
       "    }\n",
       "\n",
       "    .dataframe tbody tr th {\n",
       "        vertical-align: top;\n",
       "    }\n",
       "\n",
       "    .dataframe thead th {\n",
       "        text-align: right;\n",
       "    }\n",
       "</style>\n",
       "<table border=\"1\" class=\"dataframe\">\n",
       "  <thead>\n",
       "    <tr style=\"text-align: right;\">\n",
       "      <th></th>\n",
       "      <th>fluxes</th>\n",
       "      <th>reduced_costs</th>\n",
       "    </tr>\n",
       "  </thead>\n",
       "  <tbody>\n",
       "    <tr>\n",
       "      <th>transcription_TU8J2-1223_from_BSU25200-MONOMER</th>\n",
       "      <td>0.000000e+00</td>\n",
       "      <td>2.138997e-32</td>\n",
       "    </tr>\n",
       "    <tr>\n",
       "      <th>transcription_TU8J2-1268_from_BSU25200-MONOMER</th>\n",
       "      <td>2.189610e-10</td>\n",
       "      <td>1.472155e-34</td>\n",
       "    </tr>\n",
       "    <tr>\n",
       "      <th>transcription_TU8J2-805_from_BSU25200-MONOMER</th>\n",
       "      <td>0.000000e+00</td>\n",
       "      <td>-1.025989e-31</td>\n",
       "    </tr>\n",
       "    <tr>\n",
       "      <th>transcription_TU8J2-1022_from_BSU25200-MONOMER</th>\n",
       "      <td>0.000000e+00</td>\n",
       "      <td>-4.382381e+02</td>\n",
       "    </tr>\n",
       "    <tr>\n",
       "      <th>transcription_TU8J2-458_from_BSU25200-MONOMER</th>\n",
       "      <td>2.542118e-08</td>\n",
       "      <td>-2.457499e-32</td>\n",
       "    </tr>\n",
       "  </tbody>\n",
       "</table>\n",
       "</div>"
      ],
      "text/plain": [
       "                                                      fluxes  reduced_costs\n",
       "transcription_TU8J2-1223_from_BSU25200-MONOMER  0.000000e+00   2.138997e-32\n",
       "transcription_TU8J2-1268_from_BSU25200-MONOMER  2.189610e-10   1.472155e-34\n",
       "transcription_TU8J2-805_from_BSU25200-MONOMER   0.000000e+00  -1.025989e-31\n",
       "transcription_TU8J2-1022_from_BSU25200-MONOMER  0.000000e+00  -4.382381e+02\n",
       "transcription_TU8J2-458_from_BSU25200-MONOMER   2.542118e-08  -2.457499e-32"
      ]
     },
     "execution_count": 19,
     "metadata": {},
     "output_type": "execute_result"
    }
   ],
   "source": [
    "fluxes[fluxes.index.str.contains(\"^transcription_\")].head()"
   ]
  },
  {
   "cell_type": "markdown",
   "id": "7ceaf816-6d4d-4b41-acc2-c669cded8c25",
   "metadata": {},
   "source": [
    "### Translation rates"
   ]
  },
  {
   "cell_type": "code",
   "execution_count": 20,
   "id": "eaf9a7f8-72fa-4be3-b01d-ad208c45d4eb",
   "metadata": {},
   "outputs": [
    {
     "data": {
      "text/html": [
       "<div>\n",
       "<style scoped>\n",
       "    .dataframe tbody tr th:only-of-type {\n",
       "        vertical-align: middle;\n",
       "    }\n",
       "\n",
       "    .dataframe tbody tr th {\n",
       "        vertical-align: top;\n",
       "    }\n",
       "\n",
       "    .dataframe thead th {\n",
       "        text-align: right;\n",
       "    }\n",
       "</style>\n",
       "<table border=\"1\" class=\"dataframe\">\n",
       "  <thead>\n",
       "    <tr style=\"text-align: right;\">\n",
       "      <th></th>\n",
       "      <th>fluxes</th>\n",
       "      <th>reduced_costs</th>\n",
       "    </tr>\n",
       "  </thead>\n",
       "  <tbody>\n",
       "    <tr>\n",
       "      <th>translation_BSU00090</th>\n",
       "      <td>3.926319e-09</td>\n",
       "      <td>-1.852217e-32</td>\n",
       "    </tr>\n",
       "    <tr>\n",
       "      <th>translation_BSU00110</th>\n",
       "      <td>0.000000e+00</td>\n",
       "      <td>8.759602e-34</td>\n",
       "    </tr>\n",
       "    <tr>\n",
       "      <th>translation_BSU00120</th>\n",
       "      <td>0.000000e+00</td>\n",
       "      <td>1.105340e-32</td>\n",
       "    </tr>\n",
       "    <tr>\n",
       "      <th>translation_BSU00130</th>\n",
       "      <td>3.028489e-08</td>\n",
       "      <td>9.921502e-32</td>\n",
       "    </tr>\n",
       "    <tr>\n",
       "      <th>translation_BSU00140</th>\n",
       "      <td>0.000000e+00</td>\n",
       "      <td>-5.574761e-34</td>\n",
       "    </tr>\n",
       "  </tbody>\n",
       "</table>\n",
       "</div>"
      ],
      "text/plain": [
       "                            fluxes  reduced_costs\n",
       "translation_BSU00090  3.926319e-09  -1.852217e-32\n",
       "translation_BSU00110  0.000000e+00   8.759602e-34\n",
       "translation_BSU00120  0.000000e+00   1.105340e-32\n",
       "translation_BSU00130  3.028489e-08   9.921502e-32\n",
       "translation_BSU00140  0.000000e+00  -5.574761e-34"
      ]
     },
     "execution_count": 20,
     "metadata": {},
     "output_type": "execute_result"
    }
   ],
   "source": [
    "fluxes[fluxes.index.str.contains(\"^translation_\")].head()"
   ]
  },
  {
   "cell_type": "markdown",
   "id": "7571bdfa-d692-4566-bff0-1b5a9a0da869",
   "metadata": {},
   "source": [
    "### Sinks to be curated through manual curation"
   ]
  },
  {
   "cell_type": "markdown",
   "id": "da4c045f-1299-4024-ba99-56c3ffeed7d8",
   "metadata": {},
   "source": [
    "The Troubleshooter found 8 gaps that need to be curated to allow for growth. Most of these are cofactors that will require some synthesis pathways (e.g. 4fe4s), but others will only need some transporters (e.g. metal ions)"
   ]
  },
  {
   "cell_type": "code",
   "execution_count": 21,
   "id": "7ddb17fc-d49b-4547-bfa8-042ad83f7840",
   "metadata": {},
   "outputs": [
    {
     "data": {
      "text/html": [
       "<div>\n",
       "<style scoped>\n",
       "    .dataframe tbody tr th:only-of-type {\n",
       "        vertical-align: middle;\n",
       "    }\n",
       "\n",
       "    .dataframe tbody tr th {\n",
       "        vertical-align: top;\n",
       "    }\n",
       "\n",
       "    .dataframe thead th {\n",
       "        text-align: right;\n",
       "    }\n",
       "</style>\n",
       "<table border=\"1\" class=\"dataframe\">\n",
       "  <thead>\n",
       "    <tr style=\"text-align: right;\">\n",
       "      <th></th>\n",
       "      <th>fluxes</th>\n",
       "      <th>reduced_costs</th>\n",
       "    </tr>\n",
       "  </thead>\n",
       "  <tbody>\n",
       "    <tr>\n",
       "      <th>TS_cbl1_c</th>\n",
       "      <td>-3.571466e-09</td>\n",
       "      <td>0.0</td>\n",
       "    </tr>\n",
       "    <tr>\n",
       "      <th>TS_cobalt2_c</th>\n",
       "      <td>-3.485413e-08</td>\n",
       "      <td>0.0</td>\n",
       "    </tr>\n",
       "    <tr>\n",
       "      <th>TS_mn2_c</th>\n",
       "      <td>-7.639833e-06</td>\n",
       "      <td>0.0</td>\n",
       "    </tr>\n",
       "    <tr>\n",
       "      <th>TS_pydx5p_c</th>\n",
       "      <td>-4.360925e-07</td>\n",
       "      <td>0.0</td>\n",
       "    </tr>\n",
       "    <tr>\n",
       "      <th>TS_zn2_c</th>\n",
       "      <td>-2.351045e-07</td>\n",
       "      <td>0.0</td>\n",
       "    </tr>\n",
       "    <tr>\n",
       "      <th>TS_fe2_c</th>\n",
       "      <td>-1.273605e-09</td>\n",
       "      <td>0.0</td>\n",
       "    </tr>\n",
       "    <tr>\n",
       "      <th>TS_thmpp_c</th>\n",
       "      <td>-2.767482e-07</td>\n",
       "      <td>0.0</td>\n",
       "    </tr>\n",
       "    <tr>\n",
       "      <th>TS_4fe4s_c</th>\n",
       "      <td>-2.335281e-07</td>\n",
       "      <td>0.0</td>\n",
       "    </tr>\n",
       "  </tbody>\n",
       "</table>\n",
       "</div>"
      ],
      "text/plain": [
       "                    fluxes  reduced_costs\n",
       "TS_cbl1_c    -3.571466e-09            0.0\n",
       "TS_cobalt2_c -3.485413e-08            0.0\n",
       "TS_mn2_c     -7.639833e-06            0.0\n",
       "TS_pydx5p_c  -4.360925e-07            0.0\n",
       "TS_zn2_c     -2.351045e-07            0.0\n",
       "TS_fe2_c     -1.273605e-09            0.0\n",
       "TS_thmpp_c   -2.767482e-07            0.0\n",
       "TS_4fe4s_c   -2.335281e-07            0.0"
      ]
     },
     "execution_count": 21,
     "metadata": {},
     "output_type": "execute_result"
    }
   ],
   "source": [
    "fluxes[fluxes.index.str.contains(\"^TS_\")]"
   ]
  }
 ],
 "metadata": {
  "kernelspec": {
   "display_name": "coralme",
   "language": "python",
   "name": "coralme"
  },
  "language_info": {
   "codemirror_mode": {
    "name": "ipython",
    "version": 3
   },
   "file_extension": ".py",
   "mimetype": "text/x-python",
   "name": "python",
   "nbconvert_exporter": "python",
   "pygments_lexer": "ipython3",
   "version": "3.10.12"
  },
  "toc-autonumbering": true,
  "toc-showcode": true
 },
 "nbformat": 4,
 "nbformat_minor": 5
}
