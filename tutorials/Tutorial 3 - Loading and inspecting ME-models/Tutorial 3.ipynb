{
 "cells": [
  {
   "cell_type": "markdown",
   "id": "fb270ec2-29da-4100-9485-39da5cce1663",
   "metadata": {},
   "source": [
    "# Tutorial 3: Loading and inspecting ME-models\n",
    "\n",
    "In this tutorial we will load and inspect the reconstructed _Bacillus subtilis_ ME-model."
   ]
  },
  {
   "cell_type": "markdown",
   "id": "d37fa4bb-3c8f-4a62-923c-6c1747ebb652",
   "metadata": {},
   "source": [
    "## Import libraries"
   ]
  },
  {
   "cell_type": "code",
   "execution_count": null,
   "id": "d048f35f-6a3b-4642-86cd-49e4c4e4a187",
   "metadata": {
    "ExecuteTime": {
     "end_time": "2022-12-12T06:27:35.182100Z",
     "start_time": "2022-12-12T06:27:35.157355Z"
    }
   },
   "outputs": [],
   "source": [
    "from IPython.display import display, HTML, Math, Markdown\n",
    "display(HTML(\"<style>.container { width:95% !important; }</style>\"))\n",
    "\n",
    "from coralme.builder.main import MEBuilder"
   ]
  },
  {
   "cell_type": "markdown",
   "id": "051e8ee6-15ba-4017-8fc0-5f54da314cd8",
   "metadata": {},
   "source": [
    "## Load"
   ]
  },
  {
   "cell_type": "markdown",
   "id": "77a83a0a-a0b6-4b74-b0b8-9331a34162d7",
   "metadata": {},
   "source": [
    "Load the ME-model coming out of the Troubleshooter"
   ]
  },
  {
   "cell_type": "code",
   "execution_count": null,
   "id": "b0d86d92-b978-402c-b16a-439986ea2904",
   "metadata": {
    "ExecuteTime": {
     "end_time": "2022-12-12T06:30:28.060280Z",
     "start_time": "2022-12-12T06:30:01.706785Z"
    },
    "scrolled": true
   },
   "outputs": [],
   "source": [
    "me = MEBuilder.load(\"\",'./MEModel-step3-bacillus-TS.pkl')"
   ]
  },
  {
   "cell_type": "markdown",
   "id": "66554f57-e2e9-4c76-a0e4-f16f8d151874",
   "metadata": {},
   "source": [
    "## Solve"
   ]
  },
  {
   "cell_type": "code",
   "execution_count": null,
   "id": "cad55474-5c9a-46ea-9305-79ea2d44df66",
   "metadata": {},
   "outputs": [],
   "source": [
    "me.optimize()"
   ]
  },
  {
   "cell_type": "markdown",
   "id": "b8874ac5-e7a4-473b-80e5-5b3bca962fe5",
   "metadata": {},
   "source": [
    "## Inspecting ME-model properties"
   ]
  },
  {
   "cell_type": "markdown",
   "id": "caca0f28-cbf2-437e-b2ef-9af6bee233ff",
   "metadata": {},
   "source": [
    "### Summary of the ME-model"
   ]
  },
  {
   "cell_type": "code",
   "execution_count": null,
   "id": "a6c4835c-97d5-4583-8ccd-cec067baa26e",
   "metadata": {},
   "outputs": [],
   "source": [
    "me"
   ]
  },
  {
   "cell_type": "code",
   "execution_count": null,
   "id": "bf36850f-1484-4f61-a501-8d3356fa3f31",
   "metadata": {},
   "outputs": [],
   "source": [
    "print(\"ME-model has {} reactions\".format(len(me.reactions)))"
   ]
  },
  {
   "cell_type": "code",
   "execution_count": null,
   "id": "78545e33-afe5-4b86-87b1-6236cbb8d4f0",
   "metadata": {},
   "outputs": [],
   "source": [
    "print(\"ME-model has {} metabolites\".format(len(me.metabolites)))"
   ]
  },
  {
   "cell_type": "code",
   "execution_count": null,
   "id": "b49bbb17-4e2a-4b62-bad7-51a4322557e6",
   "metadata": {},
   "outputs": [],
   "source": [
    "print(\"ME-model has {} genes\".format(len(me.all_genes)))"
   ]
  },
  {
   "cell_type": "markdown",
   "id": "3d86778d-1cee-400e-89d4-9c3503a44288",
   "metadata": {},
   "source": [
    "### Reactions"
   ]
  },
  {
   "cell_type": "markdown",
   "id": "6ec98d84-41ca-4c08-bd6f-3b9815c01795",
   "metadata": {},
   "source": [
    "#### MetabolicReactions"
   ]
  },
  {
   "cell_type": "code",
   "execution_count": null,
   "id": "4aa94f07-6bef-4df1-884e-ea9463e164e7",
   "metadata": {},
   "outputs": [],
   "source": [
    "r = next(i for i in me.reactions if isinstance(r,coralme.core.component.MetabolicReaction))\n",
    "r"
   ]
  },
  {
   "cell_type": "markdown",
   "id": "81bff06d-8661-4cac-96a6-abe5c21a606e",
   "metadata": {},
   "source": [
    "### Mapped gene functions"
   ]
  },
  {
   "cell_type": "code",
   "execution_count": null,
   "id": "4d80e172-b737-42bd-b513-0e7ec54e791f",
   "metadata": {
    "tags": []
   },
   "outputs": [],
   "source": [
    "from collections import defaultdict\n",
    "import pandas\n",
    "d = defaultdict(int)\n",
    "for g in me.all_genes:\n",
    "    for f in g.functions:\n",
    "        d[f] += 1\n",
    "pandas.DataFrame.from_dict({\"count\":d})"
   ]
  },
  {
   "cell_type": "markdown",
   "id": "65a23350-93b7-4906-8d37-ca9df6bb4789",
   "metadata": {},
   "source": [
    "#### Inspecting functions of a gene"
   ]
  },
  {
   "cell_type": "code",
   "execution_count": null,
   "id": "a00a0fc0-43fe-4bb9-bf82-cfa4f3fb37c6",
   "metadata": {},
   "outputs": [],
   "source": [
    "g = me.all_genes.get_by_id(\"RNA_BSU37160\")\n",
    "g.functions"
   ]
  },
  {
   "cell_type": "markdown",
   "id": "d9bb3773-92ef-4246-955e-e115df91fe8a",
   "metadata": {},
   "source": [
    "### Complexes formed by a gene"
   ]
  },
  {
   "cell_type": "code",
   "execution_count": null,
   "id": "f46a78f0-dec4-4962-8b58-b0366beeca66",
   "metadata": {},
   "outputs": [],
   "source": [
    "g = me.all_genes.get_by_id(\"RNA_BSU37160\")\n",
    "g.functions"
   ]
  },
  {
   "cell_type": "markdown",
   "id": "42a9d48f-28b2-4f2d-8bce-be2c29bf8a5e",
   "metadata": {},
   "source": [
    "## Inspecting fluxes"
   ]
  },
  {
   "cell_type": "markdown",
   "id": "d977c276-1711-41fc-87fd-3862d0cb8989",
   "metadata": {},
   "source": [
    "### Predicted fluxes"
   ]
  },
  {
   "cell_type": "code",
   "execution_count": null,
   "id": "6d1ab603-99bb-4711-aa42-7f6c4aebea59",
   "metadata": {},
   "outputs": [],
   "source": [
    "fluxes = me.solution.to_frame()\n",
    "fluxes"
   ]
  },
  {
   "cell_type": "markdown",
   "id": "495c1b76-30fc-4bca-bb63-77d343e3defc",
   "metadata": {},
   "source": [
    "### Biomass production"
   ]
  },
  {
   "cell_type": "code",
   "execution_count": null,
   "id": "5984f8fb-a193-4aff-b6d1-5a9c5d85a5d0",
   "metadata": {},
   "outputs": [],
   "source": [
    "fluxes[fluxes.index.str.contains(\"biomass\")]"
   ]
  },
  {
   "cell_type": "markdown",
   "id": "dd37655b-6303-4354-b448-0f12ca7d7cae",
   "metadata": {},
   "source": [
    "### Transcription rates"
   ]
  },
  {
   "cell_type": "code",
   "execution_count": null,
   "id": "5630678c-e894-4bbc-b9a3-e71fc1bff8ce",
   "metadata": {},
   "outputs": [],
   "source": [
    "fluxes[fluxes.index.str.contains(\"^transcription_\")].head()"
   ]
  },
  {
   "cell_type": "markdown",
   "id": "7ceaf816-6d4d-4b41-acc2-c669cded8c25",
   "metadata": {},
   "source": [
    "### Translation rates"
   ]
  },
  {
   "cell_type": "code",
   "execution_count": null,
   "id": "eaf9a7f8-72fa-4be3-b01d-ad208c45d4eb",
   "metadata": {},
   "outputs": [],
   "source": [
    "fluxes[fluxes.index.str.contains(\"^translation_\")].head()"
   ]
  },
  {
   "cell_type": "markdown",
   "id": "7571bdfa-d692-4566-bff0-1b5a9a0da869",
   "metadata": {},
   "source": [
    "### Sinks to be curated through manual curation"
   ]
  },
  {
   "cell_type": "markdown",
   "id": "da4c045f-1299-4024-ba99-56c3ffeed7d8",
   "metadata": {},
   "source": [
    "The Troubleshooter found 8 gaps that need to be curated to allow for growth. Most of these are cofactors that will require some synthesis pathways (e.g. 4fe4s), but others will only need some transporters (e.g. metal ions)"
   ]
  },
  {
   "cell_type": "code",
   "execution_count": null,
   "id": "7ddb17fc-d49b-4547-bfa8-042ad83f7840",
   "metadata": {},
   "outputs": [],
   "source": [
    "fluxes[fluxes.index.str.contains(\"^TS_\")]"
   ]
  }
 ],
 "metadata": {
  "kernelspec": {
   "display_name": "coralme",
   "language": "python",
   "name": "coralme"
  },
  "language_info": {
   "codemirror_mode": {
    "name": "ipython",
    "version": 3
   },
   "file_extension": ".py",
   "mimetype": "text/x-python",
   "name": "python",
   "nbconvert_exporter": "python",
   "pygments_lexer": "ipython3",
   "version": "3.7.8"
  },
  "toc-autonumbering": true,
  "toc-showcode": true
 },
 "nbformat": 4,
 "nbformat_minor": 5
}
