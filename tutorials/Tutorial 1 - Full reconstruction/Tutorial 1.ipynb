{
 "cells": [
  {
   "cell_type": "markdown",
   "id": "fb270ec2-29da-4100-9485-39da5cce1663",
   "metadata": {},
   "source": [
    "# Tutorial 1: Full reconstruction\n",
    "\n",
    "In this tutorial we will reconstruct a _Bacillus subtilis_ ME-model from just the input files."
   ]
  },
  {
   "cell_type": "markdown",
   "id": "dbcc45ef-215d-4ee1-8383-bedd2efd084f",
   "metadata": {},
   "source": [
    "## Import libraries"
   ]
  },
  {
   "cell_type": "code",
   "execution_count": null,
   "id": "d048f35f-6a3b-4642-86cd-49e4c4e4a187",
   "metadata": {
    "ExecuteTime": {
     "end_time": "2022-12-12T06:27:35.182100Z",
     "start_time": "2022-12-12T06:27:35.157355Z"
    }
   },
   "outputs": [],
   "source": [
    "from IPython.display import display, HTML, Math, Markdown\n",
    "display(HTML(\"<style>.container { width:95% !important; }</style>\"))\n",
    "\n",
    "from coralme.builder.main import MEBuilder"
   ]
  },
  {
   "cell_type": "markdown",
   "id": "f40390ac-ebd6-4c7c-88dc-fb7d5b276383",
   "metadata": {},
   "source": [
    "## Path to configuration files"
   ]
  },
  {
   "cell_type": "code",
   "execution_count": null,
   "id": "d62ee683-429e-481b-87ea-8758c47886bb",
   "metadata": {},
   "outputs": [],
   "source": [
    "organism = './organism.json'\n",
    "inputs = './input.json'"
   ]
  },
  {
   "cell_type": "markdown",
   "id": "962f97bf-a03d-432f-916d-be11877033c4",
   "metadata": {},
   "source": [
    "## Create MEBuilder instance"
   ]
  },
  {
   "cell_type": "code",
   "execution_count": null,
   "id": "f83fbefc-c392-496d-9e1e-7820d1b6d60b",
   "metadata": {
    "scrolled": true,
    "tags": []
   },
   "outputs": [],
   "source": [
    "builder = MEBuilder(*[organism, inputs])"
   ]
  },
  {
   "cell_type": "markdown",
   "id": "32472ecb-9d39-477c-a611-3fb43d2e3254",
   "metadata": {},
   "source": [
    "## Generate files\n",
    "\n",
    "This corresponds to _Synchronyze_ and _Complement_ steps in [Arquitecture of coralME](../../docs/coralMEArquitecture.ipynb)"
   ]
  },
  {
   "cell_type": "code",
   "execution_count": null,
   "id": "33e8a1a3-3206-4bc9-9407-3c31f5367d29",
   "metadata": {
    "ExecuteTime": {
     "end_time": "2022-12-12T06:30:28.060280Z",
     "start_time": "2022-12-12T06:30:01.706785Z"
    },
    "scrolled": true,
    "tags": []
   },
   "outputs": [],
   "source": [
    "builder.generate_files(overwrite=True)"
   ]
  },
  {
   "cell_type": "markdown",
   "id": "0e9f5993-cbad-44e9-a1ce-51c43e69f565",
   "metadata": {},
   "source": [
    "## Build ME-model\n",
    "\n",
    "This corresponds to _Build_ in [Arquitecture of coralME](../../docs/coralMEArquitecture.ipynb)"
   ]
  },
  {
   "cell_type": "code",
   "execution_count": null,
   "id": "df64d444-7726-4ab3-b597-74990636c428",
   "metadata": {
    "ExecuteTime": {
     "end_time": "2022-12-12T06:28:36.607889Z",
     "start_time": "2022-12-12T06:27:59.542579Z"
    },
    "scrolled": true,
    "tags": []
   },
   "outputs": [],
   "source": [
    "builder.build_me_model(overwrite=False)"
   ]
  },
  {
   "cell_type": "markdown",
   "id": "eb86277a-16e5-490b-bcb2-99e0536e49da",
   "metadata": {},
   "source": [
    "## Troubleshoot ME-model\n",
    "\n",
    "This corresponds to _Find gaps_ in [Arquitecture of coralME](../../docs/coralMEArquitecture.ipynb)"
   ]
  },
  {
   "cell_type": "code",
   "execution_count": null,
   "id": "49a10838-9065-402e-a364-0898f5a4d2ad",
   "metadata": {
    "scrolled": true,
    "tags": []
   },
   "outputs": [],
   "source": [
    "builder.troubleshoot(growth_key_and_value = { builder.me_model.mu : 0.001 })"
   ]
  }
 ],
 "metadata": {
  "kernelspec": {
   "display_name": "coralme",
   "language": "python",
   "name": "coralme"
  },
  "language_info": {
   "codemirror_mode": {
    "name": "ipython",
    "version": 3
   },
   "file_extension": ".py",
   "mimetype": "text/x-python",
   "name": "python",
   "nbconvert_exporter": "python",
   "pygments_lexer": "ipython3",
   "version": "3.7.8"
  },
  "toc-autonumbering": true,
  "toc-showcode": true
 },
 "nbformat": 4,
 "nbformat_minor": 5
}
