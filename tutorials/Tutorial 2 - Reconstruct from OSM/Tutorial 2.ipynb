{
 "cells": [
  {
   "cell_type": "markdown",
   "id": "fb270ec2-29da-4100-9485-39da5cce1663",
   "metadata": {},
   "source": [
    "# Tutorial 2: Reconstruction from OSM\n",
    "\n",
    "In this tutorial we will reconstruct a _Bacillus subtilis_ ME-model from the OSM. This is useful once you have already run <code>builder.generate_files()</code> which performs the _Synchronize_ and _Complement_ steps (see [Arquitecture of coralME](../../docs/coralMEArquitecture.ipynb)).\n",
    "\n",
    "This way is quicker but make sure not to overwrite your OSM re-running the reconstruction in Tutorial 1."
   ]
  },
  {
   "cell_type": "code",
   "execution_count": 1,
   "id": "d048f35f-6a3b-4642-86cd-49e4c4e4a187",
   "metadata": {
    "ExecuteTime": {
     "end_time": "2022-12-12T06:27:35.182100Z",
     "start_time": "2022-12-12T06:27:35.157355Z"
    }
   },
   "outputs": [
    {
     "data": {
      "text/html": [
       "<style>.container { width:95% !important; }</style>"
      ],
      "text/plain": [
       "<IPython.core.display.HTML object>"
      ]
     },
     "metadata": {},
     "output_type": "display_data"
    },
    {
     "name": "stderr",
     "output_type": "stream",
     "text": [
      "/home/jt/UCSD/coralme/coralme/builder/main.py:30: UserWarning: This pandas version does not allow for correct warning handling. Pandas >=1.5.1 is suggested.\n",
      "  warnings.warn(\"This pandas version does not allow for correct warning handling. Pandas >=1.5.1 is suggested.\")\n",
      "/home/jt/UCSD/coralme/coralme/builder/preprocess_inputs.py:15: UserWarning: This pandas version does not allow for correct warning handling. Pandas >=1.5.1 is suggested.\n",
      "  warnings.warn(\"This pandas version does not allow for correct warning handling. Pandas >=1.5.1 is suggested.\")\n"
     ]
    }
   ],
   "source": [
    "from IPython.display import display, HTML, Math, Markdown\n",
    "display(HTML(\"<style>.container { width:95% !important; }</style>\"))\n",
    "\n",
    "from coralme.builder.main import MEBuilder"
   ]
  },
  {
   "cell_type": "code",
   "execution_count": 2,
   "id": "d62ee683-429e-481b-87ea-8758c47886bb",
   "metadata": {},
   "outputs": [],
   "source": [
    "organism = './organism.json'\n",
    "inputs = './input.json'"
   ]
  },
  {
   "cell_type": "code",
   "execution_count": 4,
   "id": "e1c65f0c-3528-4357-954f-e4fb8b870901",
   "metadata": {
    "ExecuteTime": {
     "end_time": "2022-12-12T06:30:28.060280Z",
     "start_time": "2022-12-12T06:30:01.706785Z"
    },
    "scrolled": true
   },
   "outputs": [
    {
     "name": "stdout",
     "output_type": "stream",
     "text": [
      "Set parameter Username\n",
      "Academic license - for non-commercial use only - expires 2024-01-12\n"
     ]
    }
   ],
   "source": [
    "builder = MEBuilder(*['./coralme-config.yaml'])"
   ]
  },
  {
   "cell_type": "code",
   "execution_count": 5,
   "id": "203989b7-bbd5-4261-8eb5-9cf0436ce366",
   "metadata": {
    "ExecuteTime": {
     "end_time": "2022-12-12T06:28:36.607889Z",
     "start_time": "2022-12-12T06:27:59.542579Z"
    },
    "scrolled": true,
    "tags": []
   },
   "outputs": [
    {
     "name": "stdout",
     "output_type": "stream",
     "text": [
      "Initiating ME-model reconstruction...\n"
     ]
    },
    {
     "name": "stderr",
     "output_type": "stream",
     "text": [
      "Adding biomass constraint(s) into the ME-model...                          : 100\n"
     ]
    },
    {
     "name": "stdout",
     "output_type": "stream",
     "text": [
      "Read LP format model from file /tmp/tmposi2tokz.lp\n",
      "Reading time = 0.02 seconds\n",
      ": 990 rows, 2500 columns, 10478 nonzeros\n"
     ]
    },
    {
     "name": "stderr",
     "output_type": "stream",
     "text": [
      "Adding Metabolites from M-model into the ME-model...                       : 100\n",
      "Adding Reactions from M-model into the ME-model...                         : 100\n",
      "Adding Transcriptional Units into the ME-model...                          : 100\n",
      "Adding features from contig NC_000964.3 into the ME-model...               : 100\n",
      "Adding features from contig G8J2-183 into the ME-model...                  : 100\n",
      "Adding features from contig G8J2-180 into the ME-model...                  : 100\n",
      "Adding features from contig G8J2-181 into the ME-model...                  : 100\n",
      "Adding features from contig G8J2-182 into the ME-model...                  : 100\n",
      "Updating all TranslationReaction and TranscriptionReaction...              : 100\n",
      "Removing SubReactions from ComplexData...                                  : 100\n",
      "Adding ComplexFormation into the ME-model...                               : 100\n",
      "Adding Generic(s) into the ME-model...                                     : 100\n",
      "Processing StoichiometricData in ME-model...                               : 100\n"
     ]
    },
    {
     "name": "stdout",
     "output_type": "stream",
     "text": [
      "ME-model was saved in the ./ directory as MEModel-step1-bacillus.pkl\n"
     ]
    },
    {
     "name": "stderr",
     "output_type": "stream",
     "text": [
      "Adding tRNA synthetase(s) information into the ME-model...                 : 100\n",
      "Adding tRNA modification SubReactions...                                   : 0.0\n",
      "Associating tRNA modification enzyme(s) to tRNA(s)...                      : 0.0\n",
      "Adding SubReactions into TranslationReactions...                           : 100\n",
      "Adding RNA Polymerase(s) into the ME-model...                              : 100\n",
      "Associating a RNA Polymerase to each Transcriptional Unit...               : 100\n",
      "Processing ComplexData in ME-model...                                      : 100\n",
      "Adding ComplexFormation into the ME-model...                               : 100\n",
      "Adding SubReactions into TranslationReactions...                           : 100\n",
      "Adding Transcription SubReactions...                                       : 100\n",
      "Processing StoichiometricData in SubReactionData...                        : 100\n",
      "Adding reaction subsystems from M-model into the ME-model...               : 100\n",
      "Processing StoichiometricData in ME-model...                               : 100\n",
      "Updating ME-model Reactions...                                             : 100\n",
      "Updating all FormationReactions...                                         : 100\n",
      "Recalculation of the elemental contribution in SubReactions...             : 100\n",
      "Updating all FormationReactions...                                         : 100\n",
      "Updating FormationReactions involving a lipoyl prosthetic group...         : 0.0\n",
      "Updating FormationReactions involving a glycyl radical...                  : 0.0\n",
      "Estimating effective turnover rates for reactions using the SASA method... : 100\n",
      "Mapping effective turnover rates from user input...                        : 0.0\n",
      "Setting the effective turnover rates using user input...                   : 100\n",
      "Pruning unnecessary ComplexData reactions...                               : 100\n",
      "Pruning unnecessary FoldedProtein reactions...                             : 0.0\n",
      "Pruning unnecessary ProcessedProtein reactions...                          : 100\n",
      "Pruning unnecessary TranslatedGene reactions...                            : 100\n",
      "Pruning unnecessary TranscribedGene reactions...                           : 100\n",
      "Pruning unnecessary Transcriptional Units...                               : 100\n",
      "Pruning unnecessary ComplexData reactions...                               : 100\n",
      "Pruning unnecessary FoldedProtein reactions...                             : 0.0\n",
      "Pruning unnecessary ProcessedProtein reactions...                          : 100\n",
      "Pruning unnecessary TranslatedGene reactions...                            : 100\n",
      "Pruning unnecessary TranscribedGene reactions...                           : 100\n",
      "Pruning unnecessary Transcriptional Units...                               : 100\n",
      "Pruning unnecessary ComplexData reactions...                               : 100\n",
      "Pruning unnecessary FoldedProtein reactions...                             : 0.0\n",
      "Pruning unnecessary ProcessedProtein reactions...                          : 100\n",
      "Pruning unnecessary TranslatedGene reactions...                            : 100\n",
      "Pruning unnecessary TranscribedGene reactions...                           : 100\n",
      "Pruning unnecessary Transcriptional Units...                               : 100\n"
     ]
    },
    {
     "name": "stdout",
     "output_type": "stream",
     "text": [
      "ME-model was saved in the ./ directory as MEModel-step2-bacillus.pkl\n",
      "ME-model reconstruction is done.\n",
      "Number of metabolites in the ME-model is 4245 (+328.79%, from 990)\n",
      "Number of reactions in the ME-model is 7210 (+476.80%, from 1250)\n",
      "Number of genes in the ME-model is 1042 (+23.61%, from 843)\n"
     ]
    }
   ],
   "source": [
    "builder.build_me_model(overwrite=False, update=True, prune=True)"
   ]
  },
  {
   "cell_type": "code",
   "execution_count": null,
   "id": "dab0eb6d-2a7e-4d55-8542-32a960aa02b1",
   "metadata": {},
   "outputs": [
    {
     "name": "stdout",
     "output_type": "stream",
     "text": [
      "~ Troubleshooting started...\n",
      "  Checking if the ME-model can simulate growth without gapfilling reactions...\n",
      "  Original ME-model is not feasible with a tested growth rate of 0.001000 1/h\n",
      "  Step 1. Gapfill reactions to provide components of type 'ME-Deadends' using brute force.\n",
      "          Finding gaps in the ME-model...\n",
      "          Finding gaps from the M-model only...\n",
      "          7 metabolites were identified as deadends.\n",
      "            cbl1_c: Missing metabolite in the M-model.\n",
      "            cs_c: Missing metabolite in the M-model.\n",
      "            cu_c: Missing metabolite in the M-model.\n",
      "            dpm_c: Missing metabolite in the M-model.\n",
      "            fmnh2_c: Missing metabolite in the M-model.\n",
      "            hemed_c: Missing metabolite in the M-model.\n",
      "            tl_c: Missing metabolite in the M-model.\n",
      "          Adding sink reactions for 7 metabolites...\n",
      "  Step 2. Gapfill reactions to provide components of type 'Cofactors' using brute force.\n",
      "          Adding sink reactions for 37 metabolites...\n",
      "            Sink reactions shortlisted to 31 metabolites.\n",
      "             Processed:  1/31, Gaps: 1. The ME-model is not feasible if TS_fe2_c is closed.\n",
      "             Processed:  2/31, Gaps: 2. The ME-model is not feasible if TS_cobalt2_c is closed.\n",
      "             Processed:  3/31, Gaps: 2. The ME-model is feasible if TS_fmn_c is closed.\n",
      "             Processed:  4/31, Gaps: 2. The ME-model is feasible if TS_amp_c is closed.\n",
      "             Processed:  5/31, Gaps: 2. The ME-model is feasible if TS_pi_c is closed.\n",
      "             Processed:  6/31, Gaps: 2. The ME-model is feasible if TS_pheme_c is closed.\n",
      "             Processed:  7/31, Gaps: 2. The ME-model is feasible if TS_pan4p_c is closed.\n",
      "             Processed:  8/31, Gaps: 2. The ME-model is feasible if TS_ca2_c is closed.\n",
      "             Processed:  9/31, Gaps: 3. The ME-model is not feasible if TS_pydx5p_c is closed.\n",
      "             Processed: 10/31, Gaps: 3. The ME-model is feasible if TS_nad_c is closed.\n",
      "             Processed: 11/31, Gaps: 3. The ME-model is feasible if TS_mg2_c is closed.\n",
      "             Processed: 12/31, Gaps: 3. The ME-model is feasible if TS_na1_c is closed.\n",
      "             Processed: 13/31, Gaps: 4. The ME-model is not feasible if TS_4fe4s_c is closed.\n"
     ]
    }
   ],
   "source": [
    "builder.troubleshoot(growth_key_and_value = { builder.me_model.mu : 0.001 })"
   ]
  }
 ],
 "metadata": {
  "kernelspec": {
   "display_name": "coralme",
   "language": "python",
   "name": "coralme"
  },
  "language_info": {
   "codemirror_mode": {
    "name": "ipython",
    "version": 3
   },
   "file_extension": ".py",
   "mimetype": "text/x-python",
   "name": "python",
   "nbconvert_exporter": "python",
   "pygments_lexer": "ipython3",
   "version": "3.7.8"
  },
  "toc-autonumbering": true,
  "toc-showcode": true
 },
 "nbformat": 4,
 "nbformat_minor": 5
}
