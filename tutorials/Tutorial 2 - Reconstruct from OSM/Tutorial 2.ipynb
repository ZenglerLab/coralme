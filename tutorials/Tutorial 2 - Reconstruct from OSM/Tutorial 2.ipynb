{
 "cells": [
  {
   "cell_type": "markdown",
   "id": "fb270ec2-29da-4100-9485-39da5cce1663",
   "metadata": {},
   "source": [
    "# Tutorial 2: Reconstruction from OSM\n",
    "\n",
    "In this tutorial we will reconstruct a _Bacillus subtilis_ ME-model from the OSM. This is useful once you have already run <code>builder.generate_files()</code> which performs the _Synchronize_ and _Complement_ steps (see [Arquitecture of coralME](../../docs/coralMEArquitecture.ipynb)).\n",
    "\n",
    "This way is quicker but make sure not to overwrite your OSM re-running the reconstruction in Tutorial 1."
   ]
  },
  {
   "cell_type": "markdown",
   "id": "dfdb20cc-d339-4311-a011-2a9d4c0fc1be",
   "metadata": {},
   "source": [
    "## Import libraries"
   ]
  },
  {
   "cell_type": "code",
   "execution_count": 1,
   "id": "d048f35f-6a3b-4642-86cd-49e4c4e4a187",
   "metadata": {
    "ExecuteTime": {
     "end_time": "2022-12-12T06:27:35.182100Z",
     "start_time": "2022-12-12T06:27:35.157355Z"
    }
   },
   "outputs": [
    {
     "data": {
      "text/html": [
       "<style>.container { width:95% !important; }</style>"
      ],
      "text/plain": [
       "<IPython.core.display.HTML object>"
      ]
     },
     "metadata": {},
     "output_type": "display_data"
    }
   ],
   "source": [
    "from IPython.display import display, HTML, Math, Markdown\n",
    "display(HTML(\"<style>.container { width:95% !important; }</style>\"))\n",
    "\n",
    "from coralme.builder.main import MEBuilder"
   ]
  },
  {
   "cell_type": "markdown",
   "id": "8512306e-8639-4607-91ed-3a4f62af52b6",
   "metadata": {},
   "source": [
    "## Path to configuration files"
   ]
  },
  {
   "cell_type": "code",
   "execution_count": 2,
   "id": "d62ee683-429e-481b-87ea-8758c47886bb",
   "metadata": {},
   "outputs": [],
   "source": [
    "organism = './organism.json'\n",
    "inputs = './input.json'"
   ]
  },
  {
   "cell_type": "markdown",
   "id": "ee88533a-eb05-4d5b-84ce-6f816470f363",
   "metadata": {},
   "source": [
    "## Create MEBuilder instance\n",
    "\n",
    "This time you create it from the yaml configuration file which is already generated and filled."
   ]
  },
  {
   "cell_type": "code",
   "execution_count": 3,
   "id": "e1c65f0c-3528-4357-954f-e4fb8b870901",
   "metadata": {
    "ExecuteTime": {
     "end_time": "2022-12-12T06:30:28.060280Z",
     "start_time": "2022-12-12T06:30:01.706785Z"
    }
   },
   "outputs": [
    {
     "name": "stdout",
     "output_type": "stream",
     "text": [
      "Set parameter Username\n",
      "Academic license - for non-commercial use only - expires 2024-08-16\n"
     ]
    }
   ],
   "source": [
    "builder = MEBuilder(*['./coralme-config.yaml'])"
   ]
  },
  {
   "cell_type": "markdown",
   "id": "f7dea64e-bca5-471b-8fa3-dda16736e8d7",
   "metadata": {},
   "source": [
    "## Build ME-model\n",
    "\n",
    "This corresponds to _Build_ in [Arquitecture of coralME](../../docs/coralMEArquitecture.ipynb)"
   ]
  },
  {
   "cell_type": "code",
   "execution_count": 4,
   "id": "203989b7-bbd5-4261-8eb5-9cf0436ce366",
   "metadata": {
    "ExecuteTime": {
     "end_time": "2022-12-12T06:28:36.607889Z",
     "start_time": "2022-12-12T06:27:59.542579Z"
    },
    "tags": []
   },
   "outputs": [
    {
     "name": "stdout",
     "output_type": "stream",
     "text": [
      "Initiating ME-model reconstruction...\n"
     ]
    },
    {
     "name": "stderr",
     "output_type": "stream",
     "text": [
      "Adding biomass constraint(s) into the ME-model...                          : 100.0%|██████████|    11/   11 [00:00<00:00]\n"
     ]
    },
    {
     "name": "stdout",
     "output_type": "stream",
     "text": [
      "Read LP format model from file /tmp/tmpx37bkck3.lp\n",
      "Reading time = 0.00 seconds\n",
      ": 990 rows, 2500 columns, 10478 nonzeros\n"
     ]
    },
    {
     "name": "stderr",
     "output_type": "stream",
     "text": [
      "Adding Metabolites from M-model into the ME-model...                       : 100.0%|██████████|  1055/ 1055 [00:00<00:00]\n",
      "Adding Reactions from M-model into the ME-model...                         : 100.0%|██████████|  1248/ 1248 [00:00<00:00]\n",
      "Adding Transcriptional Units into the ME-model...                          : 100.0%|██████████|  1647/ 1647 [00:09<00:00]\n",
      "Adding features from contig NC_000964.3 into the ME-model...               : 100.0%|██████████|  4537/ 4537 [00:08<00:00]\n",
      "Adding features from contig G8J2-183 into the ME-model...                  : 100.0%|██████████|     2/    2 [00:00<00:00]\n",
      "Adding features from contig G8J2-180 into the ME-model...                  : 100.0%|██████████|     2/    2 [00:00<00:00]\n",
      "Adding features from contig G8J2-181 into the ME-model...                  : 100.0%|██████████|     2/    2 [00:00<00:00]\n",
      "Adding features from contig G8J2-182 into the ME-model...                  : 100.0%|██████████|     2/    2 [00:00<00:00]\n",
      "Updating all TranslationReaction and TranscriptionReaction...              : 100.0%|██████████|  8282/ 8282 [00:04<00:00]\n",
      "Removing SubReactions from ComplexData...                                  : 100.0%|██████████|  4991/ 4991 [00:00<00:00]\n",
      "Adding ComplexFormation into the ME-model...                               : 100.0%|██████████|  4991/ 4991 [00:00<00:00]\n",
      "Adding Generic(s) into the ME-model...                                     : 100.0%|██████████|    12/   12 [00:00<00:00]\n",
      "Processing StoichiometricData in ME-model...                               : 100.0%|██████████|  1020/ 1020 [00:00<00:00]\n"
     ]
    },
    {
     "name": "stdout",
     "output_type": "stream",
     "text": [
      "ME-model was saved in the ./ directory as MEModel-step1-bsubtilis.pkl\n"
     ]
    },
    {
     "name": "stderr",
     "output_type": "stream",
     "text": [
      "Adding tRNA synthetase(s) information into the ME-model...                 : 100.0%|██████████|   306/  306 [00:00<00:00]\n",
      "Adding tRNA modification SubReactions...                                   : 0.0%|          |     0/    0 [00:00<?]\n",
      "Associating tRNA modification enzyme(s) to tRNA(s)...                      : 0.0%|          |     0/    0 [00:00<?]\n",
      "Adding SubReactions into TranslationReactions...                           : 100.0%|██████████|  4328/ 4328 [00:01<00:00]\n",
      "Adding RNA Polymerase(s) into the ME-model...                              : 100.0%|██████████|    38/   38 [00:00<00:00]\n",
      "Associating a RNA Polymerase to each Transcriptional Unit...               : 100.0%|██████████|  1647/ 1647 [00:00<00:00]\n",
      "Processing ComplexData in ME-model...                                      : 100.0%|██████████|   311/  311 [00:00<00:00]\n",
      "Adding ComplexFormation into the ME-model...                               : 100.0%|██████████|  5035/ 5035 [00:00<00:00]\n",
      "Adding SubReactions into TranslationReactions...                           : 100.0%|██████████|  4328/ 4328 [00:01<00:00]\n",
      "Adding Transcription SubReactions...                                       : 100.0%|██████████|  3409/ 3409 [00:00<00:00]\n",
      "Processing StoichiometricData in SubReactionData...                        : 100.0%|██████████|  1648/ 1648 [00:00<00:00]\n",
      "Adding reaction subsystems from M-model into the ME-model...               : 100.0%|██████████|  1248/ 1248 [00:00<00:00]\n",
      "Processing StoichiometricData in ME-model...                               : 100.0%|██████████|  1020/ 1020 [00:00<00:00]\n",
      "Updating ME-model Reactions...                                             : 100.0%|██████████| 17259/17259 [01:08<00:00]\n",
      "Updating all FormationReactions...                                         : 100.0%|██████████|  5035/ 5035 [00:00<00:00]\n",
      "Recalculation of the elemental contribution in SubReactions...             : 100.0%|██████████|   234/  234 [00:00<00:00]\n",
      "Updating all FormationReactions...                                         : 100.0%|██████████|  5035/ 5035 [00:00<00:00]\n",
      "Updating FormationReactions involving a lipoyl prosthetic group...         : 0.0%|          |     0/    0 [00:00<?]\n",
      "Updating FormationReactions involving a glycyl radical...                  : 0.0%|          |     0/    0 [00:00<?]\n",
      "Estimating effective turnover rates for reactions using the SASA method... : 100.0%|██████████|  2842/ 2842 [00:00<00:00]\n",
      "Mapping effective turnover rates from user input...                        : 0.0%|          |     0/    0 [00:00<?]\n",
      "Setting the effective turnover rates using user input...                   : 100.0%|██████████|  2610/ 2610 [00:00<00:00]\n",
      "Pruning unnecessary ComplexData reactions...                               : 100.0%|██████████|  5035/ 5035 [00:06<00:00]\n",
      "Pruning unnecessary FoldedProtein reactions...                             : 0.0%|          |     0/    0 [00:00<?]\n",
      "Pruning unnecessary ProcessedProtein reactions...                          : 100.0%|██████████|  5647/ 5647 [00:00<00:00]\n",
      "Pruning unnecessary TranslatedGene reactions...                            : 100.0%|██████████|  4625/ 4625 [00:04<00:00]\n",
      "Pruning unnecessary TranscribedGene reactions...                           : 100.0%|██████████|  4540/ 4540 [00:02<00:00]\n",
      "Pruning unnecessary Transcriptional Units...                               : 100.0%|██████████|  3408/ 3408 [00:02<00:00]\n",
      "Pruning unnecessary ComplexData reactions...                               : 100.0%|██████████|   874/  874 [00:00<00:00]\n",
      "Pruning unnecessary FoldedProtein reactions...                             : 0.0%|          |     0/    0 [00:00<?]\n",
      "Pruning unnecessary ProcessedProtein reactions...                          : 100.0%|██████████|  1244/ 1244 [00:00<00:00]\n",
      "Pruning unnecessary TranslatedGene reactions...                            : 100.0%|██████████|  1243/ 1243 [00:00<00:00]\n",
      "Pruning unnecessary TranscribedGene reactions...                           : 100.0%|██████████|  1064/ 1064 [00:00<00:00]\n",
      "Pruning unnecessary Transcriptional Units...                               : 100.0%|██████████|   681/  681 [00:01<00:00]\n",
      "Pruning unnecessary ComplexData reactions...                               : 100.0%|██████████|   837/  837 [00:00<00:00]\n",
      "Pruning unnecessary FoldedProtein reactions...                             : 0.0%|          |     0/    0 [00:00<?]\n",
      "Pruning unnecessary ProcessedProtein reactions...                          : 100.0%|██████████|  1223/ 1223 [00:00<00:00]\n",
      "Pruning unnecessary TranslatedGene reactions...                            : 100.0%|██████████|  1223/ 1223 [00:00<00:00]\n",
      "Pruning unnecessary TranscribedGene reactions...                           : 100.0%|██████████|  1044/ 1044 [00:00<00:00]\n",
      "Pruning unnecessary Transcriptional Units...                               : 100.0%|██████████|   658/  658 [00:01<00:00]\n"
     ]
    },
    {
     "name": "stdout",
     "output_type": "stream",
     "text": [
      "ME-model was saved in the ./ directory as MEModel-step2-bsubtilis.pkl\n",
      "ME-model reconstruction is done.\n",
      "Number of metabolites in the ME-model is 4245 (+328.79%, from 990)\n",
      "Number of reactions in the ME-model is 7210 (+476.80%, from 1250)\n",
      "Number of genes in the ME-model is 1042 (+23.61%, from 843)\n"
     ]
    }
   ],
   "source": [
    "builder.build_me_model(overwrite=False)"
   ]
  },
  {
   "cell_type": "markdown",
   "id": "d9773386-565c-406b-b10c-cd6f9d79fc25",
   "metadata": {},
   "source": [
    "## Troubleshoot ME-model\n",
    "\n",
    "This corresponds to _Find gaps_ in [Arquitecture of coralME](../../docs/coralMEArquitecture.ipynb)"
   ]
  },
  {
   "cell_type": "code",
   "execution_count": 5,
   "id": "dab0eb6d-2a7e-4d55-8542-32a960aa02b1",
   "metadata": {},
   "outputs": [
    {
     "name": "stdout",
     "output_type": "stream",
     "text": [
      "The MINOS and quad MINOS solvers are a courtesy of Prof Michael A. Saunders. Please cite Ma, D., Yang, L., Fleming, R. et al. Reliable and efficient solution of genome-scale models of Metabolism and macromolecular Expression. Sci Rep 7, 40863 (2017). https://doi.org/10.1038/srep40863\n",
      "\n",
      "~ Troubleshooting started...\n",
      "  Checking if the ME-model can simulate growth without gapfilling reactions...\n",
      "  Original ME-model is not feasible with a tested growth rate of 0.001000 1/h\n",
      "  Step 1. Gapfill reactions to provide components of type 'ME-Deadends' using brute force.\n",
      "          Finding gaps in the ME-model...\n",
      "          Finding gaps from the M-model only...\n",
      "          7 metabolites were identified as deadends.\n",
      "            cbl1_c: Missing metabolite in the M-model.\n",
      "            cs_c: Missing metabolite in the M-model.\n",
      "            cu_c: Missing metabolite in the M-model.\n",
      "            dpm_c: Missing metabolite in the M-model.\n",
      "            fmnh2_c: Missing metabolite in the M-model.\n",
      "            hemed_c: Missing metabolite in the M-model.\n",
      "            tl_c: Missing metabolite in the M-model.\n",
      "          Adding sink reactions for 7 metabolites...\n",
      "          Provided metabolites through sink reactions cannot recover growth. Proceeding to next set of metabolites.\n",
      "  Step 2. Gapfill reactions to provide components of type 'Cofactors' using brute force.\n",
      "          Adding sink reactions for 37 metabolites...\n",
      "            Sink reactions shortlisted to 30 metabolites.\n",
      "             Processed:  1/30, Gaps: 1. The ME-model is not feasible if TS_thmpp_c is closed.\n",
      "             Processed:  2/30, Gaps: 1. The ME-model is feasible if TS_accoa_c is closed.\n",
      "             Processed:  3/30, Gaps: 1. The ME-model is feasible if TS_nad_c is closed.\n",
      "             Processed:  4/30, Gaps: 1. The ME-model is feasible if TS_pheme_c is closed.\n",
      "             Processed:  5/30, Gaps: 1. The ME-model is feasible if TS_mg2_c is closed.\n",
      "             Processed:  6/30, Gaps: 1. The ME-model is feasible if TS_nh4_c is closed.\n",
      "             Processed:  7/30, Gaps: 1. The ME-model is feasible if TS_2fe2s_c is closed.\n",
      "             Processed:  8/30, Gaps: 1. The ME-model is feasible if TS_hco3_c is closed.\n",
      "             Processed:  9/30, Gaps: 1. The ME-model is feasible if TS_k_c is closed.\n",
      "             Processed: 10/30, Gaps: 1. The ME-model is feasible if TS_fmn_c is closed.\n",
      "             Processed: 11/30, Gaps: 1. The ME-model is feasible if TS_amp_c is closed.\n",
      "             Processed: 12/30, Gaps: 2. The ME-model is not feasible if TS_cobalt2_c is closed.\n",
      "             Processed: 13/30, Gaps: 3. The ME-model is not feasible if TS_4fe4s_c is closed.\n",
      "             Processed: 14/30, Gaps: 4. The ME-model is not feasible if TS_mn2_c is closed.\n",
      "             Processed: 15/30, Gaps: 4. The ME-model is feasible if TS_pan4p_c is closed.\n",
      "             Processed: 16/30, Gaps: 4. The ME-model is feasible if TS_sheme_c is closed.\n",
      "             Processed: 17/30, Gaps: 5. The ME-model is not feasible if TS_zn2_c is closed.\n",
      "             Processed: 18/30, Gaps: 5. The ME-model is feasible if TS_pi_c is closed.\n",
      "             Processed: 19/30, Gaps: 5. The ME-model is feasible if TS_nadph_c is closed.\n",
      "             Processed: 20/30, Gaps: 5. The ME-model is feasible if TS_nadh_c is closed.\n",
      "             Processed: 21/30, Gaps: 6. The ME-model is not feasible if TS_pydx5p_c is closed.\n",
      "             Processed: 22/30, Gaps: 6. The ME-model is feasible if TS_fad_c is closed.\n",
      "             Processed: 23/30, Gaps: 6. The ME-model is feasible if TS_fadh2_c is closed.\n",
      "             Processed: 24/30, Gaps: 6. The ME-model is feasible if TS_lys__L_c is closed.\n",
      "             Processed: 25/30, Gaps: 7. The ME-model is not feasible if TS_fe2_c is closed.\n",
      "             Processed: 26/30, Gaps: 7. The ME-model is feasible if TS_cu_c is closed.\n",
      "             Processed: 27/30, Gaps: 8. The ME-model is not feasible if TS_cbl1_c is closed.\n",
      "             Processed: 28/30, Gaps: 8. The ME-model is feasible if TS_dpm_c is closed.\n",
      "             Processed: 29/30, Gaps: 8. The ME-model is feasible if TS_hemed_c is closed.\n",
      "             Processed: 30/30, Gaps: 8. The ME-model is feasible if TS_cs_c is closed.\n",
      "~ Troubleshooter added the following sinks: TS_cbl1_c, TS_thmpp_c, TS_cobalt2_c, TS_4fe4s_c, TS_mn2_c, TS_zn2_c, TS_pydx5p_c, TS_fe2_c.\n",
      "~ Final step. Fully optimizing with precision 1e-6 and save solution into the ME-model...\n",
      "  Gapfilled ME-model is feasible with growth rate 0.098728 (M-model: 0.117966).\n",
      "ME-model was saved in the ./ directory as MEModel-step3-bsubtilis-TS.pkl\n"
     ]
    }
   ],
   "source": [
    "builder.troubleshoot(growth_key_and_value = { builder.me_model.mu : 0.001 })"
   ]
  }
 ],
 "metadata": {
  "kernelspec": {
   "display_name": "coralme",
   "language": "python",
   "name": "coralme"
  },
  "language_info": {
   "codemirror_mode": {
    "name": "ipython",
    "version": 3
   },
   "file_extension": ".py",
   "mimetype": "text/x-python",
   "name": "python",
   "nbconvert_exporter": "python",
   "pygments_lexer": "ipython3",
   "version": "3.10.12"
  },
  "toc-autonumbering": true,
  "toc-showcode": true
 },
 "nbformat": 4,
 "nbformat_minor": 5
}
